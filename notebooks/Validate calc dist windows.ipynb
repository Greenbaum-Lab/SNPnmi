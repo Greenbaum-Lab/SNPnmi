{
 "cells": [
  {
   "cell_type": "markdown",
   "metadata": {
    "toc": true
   },
   "source": [
    "<h1>Table of Contents<span class=\"tocSkip\"></span></h1>\n",
    "<div class=\"toc\"><ul class=\"toc-item\"></ul></div>"
   ]
  },
  {
   "cell_type": "code",
   "execution_count": 10,
   "metadata": {
    "ExecuteTime": {
     "end_time": "2021-02-24T12:12:18.623089Z",
     "start_time": "2021-02-24T12:12:18.585218Z"
    }
   },
   "outputs": [],
   "source": [
    "import pandas as pd\n",
    "df = pd.read_csv(r\"C:\\Data\\HUJI\\vcf\\hgdp\\hgdp_wgs.20190516.metadata.txt\", sep = '\\t')\n",
    "df['population'].drop_duplicates().to_csv(r\"C:\\Data\\HUJI\\vcf\\hgdp\\SS.txt\", sep = ',', index =False)"
   ]
  },
  {
   "cell_type": "code",
   "execution_count": 1,
   "metadata": {
    "ExecuteTime": {
     "end_time": "2021-02-17T09:18:07.515735Z",
     "start_time": "2021-02-17T09:18:07.512231Z"
    }
   },
   "outputs": [],
   "source": [
    "import sys\n",
    "root_path = r'C:/Repos/HUJI/snpnmi/'\n",
    "sys.path.append(root_path)"
   ]
  },
  {
   "cell_type": "code",
   "execution_count": 25,
   "metadata": {
    "ExecuteTime": {
     "end_time": "2021-02-17T10:17:36.123561Z",
     "start_time": "2021-02-17T10:17:36.120596Z"
    }
   },
   "outputs": [],
   "source": [
    "min_mac = 2\n",
    "max_mac = 18\n",
    "min_maf = 1\n",
    "max_maf = 49"
   ]
  },
  {
   "cell_type": "code",
   "execution_count": 2,
   "metadata": {
    "ExecuteTime": {
     "end_time": "2021-02-17T10:18:57.026749Z",
     "start_time": "2021-02-17T10:18:57.020755Z"
    }
   },
   "outputs": [],
   "source": [
    "import gzip\n",
    "\n",
    "def file_len(fname):\n",
    "    with gzip.open(fname,'rb') as f:\n",
    "        for i, l in enumerate(f):\n",
    "            pass\n",
    "    return i + 1"
   ]
  },
  {
   "cell_type": "code",
   "execution_count": 1,
   "metadata": {
    "ExecuteTime": {
     "end_time": "2021-02-24T12:03:52.551072Z",
     "start_time": "2021-02-24T12:03:52.222142Z"
    }
   },
   "outputs": [
    {
     "name": "stdout",
     "output_type": "stream",
     "text": [
      "927 97542\n",
      "\n",
      "927 23282.129909900013\n",
      "\n",
      "927 0.23868825644235317\n",
      "\n"
     ]
    }
   ],
   "source": [
    "import gzip\n",
    "fname = r\"C:\\Data\\HUJI\\vcf\\hgdp\\merged\\merged_count_mac_1_0_maf_49_49.gz.tsv\"\n",
    "with gzip.open(fname,'rb') as f:\n",
    "    for i, l in enumerate(f):\n",
    "        if i > 926:\n",
    "            print(i,l.decode())\n",
    "fname = r\"C:\\Data\\HUJI\\vcf\\hgdp\\merged\\merged_dist_mac_1_0_maf_49_49.gz.tsv\"\n",
    "with gzip.open(fname,'rb') as f:\n",
    "    for i, l in enumerate(f):\n",
    "        if i > 926:\n",
    "            print(i,l.decode())\n",
    "fname = r\"C:\\Data\\HUJI\\vcf\\hgdp\\merged\\merged_norm_dist_mac_1_0_maf_49_49.gz.tsv\"\n",
    "with gzip.open(fname,'rb') as f:\n",
    "    for i, l in enumerate(f):\n",
    "        if i > 926:\n",
    "            print(i,l.decode())\n",
    "            \n",
    "# 988 237.2748894"
   ]
  },
  {
   "cell_type": "code",
   "execution_count": 24,
   "metadata": {},
   "outputs": [
    {
     "name": "stdout",
     "output_type": "stream",
     "text": [
      "99 24.5179531\n",
      "198 48.7324627\n",
      "298 73.2311977\n",
      "398 99.410495\n",
      "497 122.1754559\n",
      "594 146.1375774\n",
      "691 171.1313982\n",
      "791 193.3503559\n",
      "889 215.04255930000002\n",
      "988 237.2748894\n",
      "988 237.2748894\n"
     ]
    }
   ],
   "source": [
    "indexes = [7,86,92,204,379,620,683,864,928,950]\n",
    "import gzip\n",
    "t_c = 0\n",
    "t_d = 0.0\n",
    "\n",
    "for index in indexes:\n",
    "    fname = f'C:\\Data/HUJI/vcf\\hgdp\\classes\\windows\\maf_0.49\\count_dist_window_{index}.tsv.gz'\n",
    "    with gzip.open(fname,'rb') as f:\n",
    "        for i, l in enumerate(f):\n",
    "            if i > 926:\n",
    "                t=l.decode()\n",
    "                c,d = t.split(';',2)\n",
    "                t_c += int(c)\n",
    "                t_d += float(d)\n",
    "                print(t_c,t_d)\n",
    "print(t_c,t_d)\n",
    "    "
   ]
  },
  {
   "cell_type": "code",
   "execution_count": 31,
   "metadata": {
    "ExecuteTime": {
     "end_time": "2021-02-17T10:18:57.749814Z",
     "start_time": "2021-02-17T10:18:57.743808Z"
    }
   },
   "outputs": [],
   "source": [
    "\n",
    "'''print(paths_helper.data_folder,\n",
    "paths_helper.classes_folder,\n",
    "paths_helper.windows_folder,\n",
    "paths_helper.windows_indexes_folder,\n",
    "paths_helper.number_of_windows_per_class_path,\n",
    "paths_helper.logs_folder,\n",
    "paths_helper.logs_cluster_folder,\n",
    "paths_helper.logs_cluster_jobs_stderr_template,\n",
    "paths_helper.logs_cluster_jobs_stdout_template)\n",
    "'''\n",
    "\n"
   ]
  },
  {
   "cell_type": "code",
   "execution_count": 41,
   "metadata": {
    "ExecuteTime": {
     "end_time": "2021-02-17T10:57:40.888778Z",
     "start_time": "2021-02-17T10:57:40.877269Z"
    }
   },
   "outputs": [],
   "source": [
    "def go_over_classes(mac_maf, classes_names):\n",
    "    for class_name in classes_names:\n",
    "        win_dir = paths_helper.windows_folder + f'{mac_maf}_{class_name}/'\n",
    "        num_windows = class2num_windows[str(class_name)]\n",
    "        for i in range(num_windows):\n",
    "            count_dist_file = f'{win_dir}count_dist_window_{i}.tsv.gz'\n",
    "            print(f'Assert len of {count_dist_file}')\n",
    "            assert file_len(count_dist_file) == get_num_individuals()-1            "
   ]
  },
  {
   "cell_type": "code",
   "execution_count": 42,
   "metadata": {
    "ExecuteTime": {
     "end_time": "2021-02-17T10:57:46.525608Z",
     "start_time": "2021-02-17T10:57:46.517083Z"
    }
   },
   "outputs": [
    {
     "name": "stdout",
     "output_type": "stream",
     "text": [
      "16\n",
      "1\n"
     ]
    }
   ],
   "source": [
    "#go_over_classes('mac', range(min_mac, max_mac))\n",
    "maf_classes_names = [str(maf/100) for maf in range(min_maf, max_maf+1)]\n",
    "go_over_classes('maf', maf_classes_names)"
   ]
  },
  {
   "cell_type": "code",
   "execution_count": 19,
   "metadata": {
    "ExecuteTime": {
     "end_time": "2021-02-17T09:45:11.094820Z",
     "start_time": "2021-02-17T09:45:11.078410Z"
    }
   },
   "outputs": [
    {
     "name": "stdout",
     "output_type": "stream",
     "text": [
      "C:/Data/HUJI/vcf/hgdp/classes/windows/maf_0.1/count_dist_window_0.tsv.gz\n"
     ]
    },
    {
     "ename": "FileNotFoundError",
     "evalue": "[Errno 2] No such file or directory: 'C:/Data/HUJI/vcf/hgdp/classes/windows/maf_0.1/count_dist_window_0.tsv.gz'",
     "output_type": "error",
     "traceback": [
      "\u001b[1;31m---------------------------------------------------------------------------\u001b[0m",
      "\u001b[1;31mFileNotFoundError\u001b[0m                         Traceback (most recent call last)",
      "\u001b[1;32m<ipython-input-19-18d67bbcc218>\u001b[0m in \u001b[0;36m<module>\u001b[1;34m\u001b[0m\n\u001b[0;32m      6\u001b[0m         \u001b[0mcount_dist_file\u001b[0m \u001b[1;33m=\u001b[0m \u001b[1;34mf'{win_dir}count_dist_window_{i}.tsv.gz'\u001b[0m\u001b[1;33m\u001b[0m\u001b[1;33m\u001b[0m\u001b[0m\n\u001b[0;32m      7\u001b[0m         \u001b[0mprint\u001b[0m\u001b[1;33m(\u001b[0m\u001b[0mcount_dist_file\u001b[0m\u001b[1;33m)\u001b[0m\u001b[1;33m\u001b[0m\u001b[1;33m\u001b[0m\u001b[0m\n\u001b[1;32m----> 8\u001b[1;33m         \u001b[1;32massert\u001b[0m \u001b[0mfile_len\u001b[0m\u001b[1;33m(\u001b[0m\u001b[0mcount_dist_file\u001b[0m\u001b[1;33m)\u001b[0m \u001b[1;33m==\u001b[0m \u001b[0mget_num_individuals\u001b[0m\u001b[1;33m(\u001b[0m\u001b[1;33m)\u001b[0m\u001b[1;33m-\u001b[0m\u001b[1;36m1\u001b[0m\u001b[1;33m\u001b[0m\u001b[1;33m\u001b[0m\u001b[0m\n\u001b[0m\u001b[0;32m      9\u001b[0m         \u001b[1;32mbreak\u001b[0m\u001b[1;33m\u001b[0m\u001b[1;33m\u001b[0m\u001b[0m\n",
      "\u001b[1;32m<ipython-input-18-4f2471eef885>\u001b[0m in \u001b[0;36mfile_len\u001b[1;34m(fname)\u001b[0m\n\u001b[0;32m      1\u001b[0m \u001b[1;32mdef\u001b[0m \u001b[0mfile_len\u001b[0m\u001b[1;33m(\u001b[0m\u001b[0mfname\u001b[0m\u001b[1;33m)\u001b[0m\u001b[1;33m:\u001b[0m\u001b[1;33m\u001b[0m\u001b[1;33m\u001b[0m\u001b[0m\n\u001b[1;32m----> 2\u001b[1;33m     \u001b[1;32mwith\u001b[0m \u001b[0mopen\u001b[0m\u001b[1;33m(\u001b[0m\u001b[0mfname\u001b[0m\u001b[1;33m)\u001b[0m \u001b[1;32mas\u001b[0m \u001b[0mf\u001b[0m\u001b[1;33m:\u001b[0m\u001b[1;33m\u001b[0m\u001b[1;33m\u001b[0m\u001b[0m\n\u001b[0m\u001b[0;32m      3\u001b[0m         \u001b[1;32mfor\u001b[0m \u001b[0mi\u001b[0m\u001b[1;33m,\u001b[0m \u001b[0ml\u001b[0m \u001b[1;32min\u001b[0m \u001b[0menumerate\u001b[0m\u001b[1;33m(\u001b[0m\u001b[0mf\u001b[0m\u001b[1;33m)\u001b[0m\u001b[1;33m:\u001b[0m\u001b[1;33m\u001b[0m\u001b[1;33m\u001b[0m\u001b[0m\n\u001b[0;32m      4\u001b[0m             \u001b[1;32mpass\u001b[0m\u001b[1;33m\u001b[0m\u001b[1;33m\u001b[0m\u001b[0m\n\u001b[0;32m      5\u001b[0m     \u001b[1;32mreturn\u001b[0m \u001b[0mi\u001b[0m \u001b[1;33m+\u001b[0m \u001b[1;36m1\u001b[0m\u001b[1;33m\u001b[0m\u001b[1;33m\u001b[0m\u001b[0m\n",
      "\u001b[1;31mFileNotFoundError\u001b[0m: [Errno 2] No such file or directory: 'C:/Data/HUJI/vcf/hgdp/classes/windows/maf_0.1/count_dist_window_0.tsv.gz'"
     ]
    }
   ],
   "source": [
    "# /vol/sci/bio/data/gil.greenbaum/amir.rubin/vcf/hgdp/classes/windows/maf_0.49/count_dist_window_842.tsv.gz\n",
    "for k,v in class2num_windows.items():\n",
    "    mac_maf = 'maf' if '.' in k else 'mac'\n",
    "    win_dir = paths_helper.windows_folder + f'{mac_maf}_{k}/'\n",
    "    for i in range(v):\n",
    "        count_dist_file = f'{win_dir}count_dist_window_{i}.tsv.gz'\n",
    "        print(count_dist_file)\n",
    "        assert file_len(count_dist_file) == get_num_individuals()-1\n"
   ]
  },
  {
   "cell_type": "code",
   "execution_count": null,
   "metadata": {},
   "outputs": [],
   "source": []
  }
 ],
 "metadata": {
  "kernelspec": {
   "display_name": "Python 3",
   "language": "python",
   "name": "python3"
  },
  "language_info": {
   "codemirror_mode": {
    "name": "ipython",
    "version": 3
   },
   "file_extension": ".py",
   "mimetype": "text/x-python",
   "name": "python",
   "nbconvert_exporter": "python",
   "pygments_lexer": "ipython3",
   "version": "3.7.4"
  },
  "toc": {
   "base_numbering": 1,
   "nav_menu": {},
   "number_sections": true,
   "sideBar": true,
   "skip_h1_title": true,
   "title_cell": "Table of Contents",
   "title_sidebar": "Contents",
   "toc_cell": true,
   "toc_position": {},
   "toc_section_display": true,
   "toc_window_display": false
  },
  "varInspector": {
   "cols": {
    "lenName": 16,
    "lenType": 16,
    "lenVar": 40
   },
   "kernels_config": {
    "python": {
     "delete_cmd_postfix": "",
     "delete_cmd_prefix": "del ",
     "library": "var_list.py",
     "varRefreshCmd": "print(var_dic_list())"
    },
    "r": {
     "delete_cmd_postfix": ") ",
     "delete_cmd_prefix": "rm(",
     "library": "var_list.r",
     "varRefreshCmd": "cat(var_dic_list()) "
    }
   },
   "oldHeight": 122.84966599999998,
   "position": {
    "height": "144.783px",
    "left": "1418.33px",
    "right": "20px",
    "top": "120px",
    "width": "350px"
   },
   "types_to_exclude": [
    "module",
    "function",
    "builtin_function_or_method",
    "instance",
    "_Feature"
   ],
   "varInspector_section_display": "block",
   "window_display": true
  }
 },
 "nbformat": 4,
 "nbformat_minor": 4
}

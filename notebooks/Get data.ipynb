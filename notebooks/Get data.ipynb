{
 "cells": [
  {
   "cell_type": "markdown",
   "metadata": {
    "toc": true
   },
   "source": [
    "<h1>Table of Contents<span class=\"tocSkip\"></span></h1>\n",
    "<div class=\"toc\"><ul class=\"toc-item\"></ul></div>"
   ]
  },
  {
   "cell_type": "code",
   "execution_count": 63,
   "metadata": {
    "ExecuteTime": {
     "end_time": "2021-04-28T12:04:40.859014Z",
     "start_time": "2021-04-28T12:04:40.847019Z"
    }
   },
   "outputs": [],
   "source": [
    "local_data_folder = r'C:\\Data\\HUJI\\vcf\\hgdp_test/'\n",
    "ftp_source_host = \"ngs.sanger.ac.uk\"\n",
    "ftp_source_path = '/production/hgdp/hgdp_wgs.20190516/'\n",
    "ftp_source = f'ftp://{ftp_source_host}{ftp_source_path}',\n",
    "files_names = [\"hgdp_wgs.20190516.full.chr21.vcf.gz\"]"
   ]
  },
  {
   "cell_type": "code",
   "execution_count": 64,
   "metadata": {
    "ExecuteTime": {
     "end_time": "2021-04-28T12:04:41.880218Z",
     "start_time": "2021-04-28T12:04:41.870216Z"
    }
   },
   "outputs": [],
   "source": [
    "import ftplib\n",
    "import os\n",
    "from datetime import datetime\n",
    "from pathlib import Path\n"
   ]
  },
  {
   "cell_type": "code",
   "execution_count": 65,
   "metadata": {
    "ExecuteTime": {
     "end_time": "2021-04-28T12:04:44.434673Z",
     "start_time": "2021-04-28T12:04:44.415716Z"
    }
   },
   "outputs": [],
   "source": [
    "def validate_downloaded_files_sizes(ftp_source_host, ftp_source_path, local_data_folder):\n",
    "    ftp_user = \"anonymous\"\n",
    "    ftp_pass = \"\"\n",
    "    ftp = ftplib.FTP(ftp_source_host, ftp_user, ftp_pass)\n",
    "    ftp.cwd(ftp_source_path)\n",
    "    found_files = []\n",
    "    non_valid_files = []\n",
    "    for file_name in ftp.nlst():\n",
    "        if file_name in files_names:\n",
    "            found_files.append(file_name)\n",
    "            try:\n",
    "                ftp.cwd(file_name)\n",
    "            except Exception as e:\n",
    "                ftp.voidcmd(\"TYPE I\")\n",
    "                file_size = ftp.size(file_name)\n",
    "                local_file_size = Path(local_data_folder + file_name).stat().st_size\n",
    "                if local_file_size != file_size:\n",
    "                    print(f'file size mismatch: {file_name} - remote: {file_size}, local: {local_file_size}')\n",
    "                    non_valid_files.append(file_name)\n",
    "\n",
    "    return found_files, non_valid_files\n",
    "\n"
   ]
  },
  {
   "cell_type": "code",
   "execution_count": 69,
   "metadata": {
    "ExecuteTime": {
     "end_time": "2021-04-28T13:18:47.731957Z",
     "start_time": "2021-04-28T13:18:46.582257Z"
    }
   },
   "outputs": [],
   "source": [
    "retry = False\n",
    "found_files, non_valid_files = validate_downloaded_files_sizes(ftp_source_host,ftp_source_path,local_data_folder)\n",
    "missing_files = [f for f in files_names if not f in found_files]\n",
    "\n",
    "if len(missing_files) > 0:\n",
    "    print('Some files were not found:' + ','.join(missing_files))\n",
    "if len(non_valid_files) > 0:\n",
    "    print('Some files sizes did not match:' + ','.join(non_valid_files))\n",
    "    #retry\n",
    "        \n"
   ]
  },
  {
   "cell_type": "code",
   "execution_count": null,
   "metadata": {},
   "outputs": [],
   "source": [
    "def validate_downloaded_files(ftp_source_host, ftp_source_path, local_data_folder, files_names, retry=False):\n",
    "    found_files, non_valid_files = validate_downloaded_files_sizes(ftp_source_host, ftp_source_path, local_data_folder)\n",
    "    missing_files = [f for f in files_names if not f in found_files]\n",
    "\n",
    "    if len(missing_files) > 0:\n",
    "        print('Some files were not found:' + ','.join(missing_files))\n",
    "    if len(non_valid_files) > 0:\n",
    "        print('Some files sizes did not match:' + ','.join(non_valid_files))\n",
    "        #retry\n",
    "        if retry:\n",
    "            download_files(, files_names, local_data_folder, override=True)\n",
    "            # we only retry once!\n",
    "            validate_downloaded_files(ftp_source_host, ftp_source_path, local_data_folder, files_names, retry=False)"
   ]
  },
  {
   "cell_type": "code",
   "execution_count": 72,
   "metadata": {
    "ExecuteTime": {
     "end_time": "2021-04-28T13:43:45.770558Z",
     "start_time": "2021-04-28T13:43:45.766491Z"
    }
   },
   "outputs": [
    {
     "data": {
      "text/plain": [
       "'2021-04-28 13:43:45.766491'"
      ]
     },
     "execution_count": 72,
     "metadata": {},
     "output_type": "execute_result"
    }
   ],
   "source": [
    "from datetime import datetime\n",
    "str(datetime.utcnow())"
   ]
  },
  {
   "cell_type": "code",
   "execution_count": 71,
   "metadata": {
    "ExecuteTime": {
     "end_time": "2021-04-28T13:34:43.993985Z",
     "start_time": "2021-04-28T13:34:43.965670Z"
    }
   },
   "outputs": [
    {
     "name": "stdout",
     "output_type": "stream",
     "text": [
      "2021-04-28 13:34:43.965670\n"
     ]
    }
   ],
   "source": [
    "print(datetime.utcnow())"
   ]
  },
  {
   "cell_type": "code",
   "execution_count": null,
   "metadata": {},
   "outputs": [],
   "source": []
  }
 ],
 "metadata": {
  "kernelspec": {
   "display_name": "Python 3",
   "language": "python",
   "name": "python3"
  },
  "language_info": {
   "codemirror_mode": {
    "name": "ipython",
    "version": 3
   },
   "file_extension": ".py",
   "mimetype": "text/x-python",
   "name": "python",
   "nbconvert_exporter": "python",
   "pygments_lexer": "ipython3",
   "version": "3.7.4"
  },
  "toc": {
   "base_numbering": 1,
   "nav_menu": {},
   "number_sections": true,
   "sideBar": true,
   "skip_h1_title": true,
   "title_cell": "Table of Contents",
   "title_sidebar": "Contents",
   "toc_cell": true,
   "toc_position": {},
   "toc_section_display": true,
   "toc_window_display": false
  },
  "varInspector": {
   "cols": {
    "lenName": 16,
    "lenType": 16,
    "lenVar": 40
   },
   "kernels_config": {
    "python": {
     "delete_cmd_postfix": "",
     "delete_cmd_prefix": "del ",
     "library": "var_list.py",
     "varRefreshCmd": "print(var_dic_list())"
    },
    "r": {
     "delete_cmd_postfix": ") ",
     "delete_cmd_prefix": "rm(",
     "library": "var_list.r",
     "varRefreshCmd": "cat(var_dic_list()) "
    }
   },
   "types_to_exclude": [
    "module",
    "function",
    "builtin_function_or_method",
    "instance",
    "_Feature"
   ],
   "window_display": true
  }
 },
 "nbformat": 4,
 "nbformat_minor": 4
}

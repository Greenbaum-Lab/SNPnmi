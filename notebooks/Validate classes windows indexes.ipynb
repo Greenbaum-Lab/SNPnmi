{
 "cells": [
  {
   "cell_type": "markdown",
   "metadata": {
    "toc": true
   },
   "source": [
    "<h1>Table of Contents<span class=\"tocSkip\"></span></h1>\n",
    "<div class=\"toc\"><ul class=\"toc-item\"></ul></div>"
   ]
  },
  {
   "cell_type": "code",
   "execution_count": 1,
   "metadata": {
    "ExecuteTime": {
     "end_time": "2021-01-27T10:47:33.698820Z",
     "start_time": "2021-01-27T10:47:33.661079Z"
    }
   },
   "outputs": [],
   "source": [
    "split_vcf_stats_path = r\"C:\\Data\\HUJI\\hgdp\\classes\\split_vcf_output_stats.csv\"\n",
    "number_of_windows_per_class_path = r\"C:\\Data\\HUJI\\hgdp\\classes\\number_of_windows_per_class.txt\"\n",
    "windows_indexes_files_folder = r\"C:\\Data\\HUJI\\hgdp\\classes\\windows_indexes/\""
   ]
  },
  {
   "cell_type": "code",
   "execution_count": 2,
   "metadata": {
    "ExecuteTime": {
     "end_time": "2021-01-27T10:47:35.128678Z",
     "start_time": "2021-01-27T10:47:35.088354Z"
    }
   },
   "outputs": [],
   "source": [
    "min_mac = 20\n",
    "max_mac = 18\n",
    "min_maf = 41\n",
    "max_maf = 49\n",
    "min_chr = 1\n",
    "max_chr = 22\n",
    "windows_indexes_path_template = windows_indexes_files_folder + \"windows_indexes_for_class_{class_name}.json\""
   ]
  },
  {
   "cell_type": "code",
   "execution_count": 3,
   "metadata": {
    "ExecuteTime": {
     "end_time": "2021-01-27T10:47:35.551380Z",
     "start_time": "2021-01-27T10:47:35.535794Z"
    }
   },
   "outputs": [
    {
     "name": "stdout",
     "output_type": "stream",
     "text": [
      "PASSED - all windows indexes file of relevant macs and mafs exist\n"
     ]
    }
   ],
   "source": [
    "# validate per class that we have a windows indexes file\n",
    "# first validate all data is here\n",
    "import os\n",
    "for mac in range(min_mac, max_mac+1):\n",
    "    path = windows_indexes_path_template.format(class_name=str(mac),)\n",
    "    assert os.path.isfile(path), f'{path} is missing'\n",
    "for maf in range(min_maf, max_maf+1):\n",
    "    path = windows_indexes_path_template.format(class_name=str(maf*1.0/100),)\n",
    "    assert os.path.isfile(path), f'{path} is missing'\n",
    "print(f'PASSED - all windows indexes file of relevant macs and mafs exist')  "
   ]
  },
  {
   "cell_type": "code",
   "execution_count": 5,
   "metadata": {
    "ExecuteTime": {
     "end_time": "2021-01-27T10:48:20.311215Z",
     "start_time": "2021-01-27T10:48:20.161504Z"
    }
   },
   "outputs": [
    {
     "name": "stdout",
     "output_type": "stream",
     "text": [
      "total_num_windows 322483\n",
      "PASSED - all relevant macs and mafs exist in the file with number of windows per class\n",
      "PASSED - number of windows match those found in the windows indexes files for all relevant macs and mafs\n"
     ]
    }
   ],
   "source": [
    "#validate number of windows per class\n",
    "\n",
    "import json\n",
    "def get_windows(path):\n",
    "    with open(path) as f:\n",
    "        windows = json.load(f)\n",
    "    return windows\n",
    "\n",
    "# read the file\n",
    "class2num_of_windows = dict()\n",
    "total_num_windows = 0\n",
    "with open(number_of_windows_per_class_path) as f:\n",
    "    for l in f:\n",
    "        parts = l.split()\n",
    "        class_name = parts[0]\n",
    "        num_of_windows = parts[1]\n",
    "        total_num_windows+=int(num_of_windows)\n",
    "        class2num_of_windows[class_name] = int(num_of_windows)\n",
    "print('total_num_windows', total_num_windows)\n",
    "# validate all classes are there\n",
    "for mac in range(min_mac, max_mac+1):\n",
    "    assert str(mac) in class2num_of_windows.keys(), f'{mac} class is missing in {number_of_windows_per_class_path}'\n",
    "for maf in range(min_maf, max_maf+1):\n",
    "    assert str(maf*1.0/100) in class2num_of_windows.keys(), f'{str(maf*1.0/100)} class is missing in {number_of_windows_per_class_path}'\n",
    "print(f'PASSED - all relevant macs and mafs exist in the file with number of windows per class')  \n",
    "\n",
    "# validate the number of windows listed is indded the number in the windows indexes file\n",
    "for mac in range(min_mac, max_mac+1):\n",
    "    windows_indexes_path = windows_indexes_path_template.format(class_name=str(mac),)\n",
    "    num_windows = len(get_windows(windows_indexes_path))\n",
    "    assert num_windows == class2num_of_windows[str(mac)]\n",
    "for maf in range(min_maf, max_maf+1):\n",
    "    windows_indexes_path = windows_indexes_path_template.format(class_name=str(maf*1.0/100),)\n",
    "    num_windows = len(get_windows(windows_indexes_path))\n",
    "    assert num_windows == class2num_of_windows[str(maf*1.0/100)]\n",
    "print(f'PASSED - number of windows match those found in the windows indexes files for all relevant macs and mafs')  \n"
   ]
  },
  {
   "cell_type": "code",
   "execution_count": 57,
   "metadata": {
    "ExecuteTime": {
     "end_time": "2021-01-23T18:31:34.134867Z",
     "start_time": "2021-01-23T18:31:33.626870Z"
    }
   },
   "outputs": [
    {
     "name": "stdout",
     "output_type": "stream",
     "text": [
      "41\n",
      "42\n",
      "43\n",
      "44\n",
      "45\n",
      "46\n",
      "47\n",
      "48\n",
      "49\n",
      "PASSED - number of sites match those found in the split_vcf stats file for all relevant macs and mafs and chrs\n"
     ]
    }
   ],
   "source": [
    "# validate that all indexes are covered: sum per class per chr and compare to the file holding the split_vcf stats\n",
    "\n",
    "def get_chr2number_of_indexes(windows):\n",
    "    chr2num_of_indexes= dict()\n",
    "    for i in range(min_chr, max_chr+1):\n",
    "        chr2num_of_indexes[str(i)] = 0\n",
    "    for window in windows:\n",
    "        for site in window:\n",
    "            parts = site.split(';')\n",
    "            chr2num_of_indexes[parts[0]]+=1\n",
    "    return chr2num_of_indexes\n",
    "\n",
    "def validate_number_of_sites_in_class(class_name):\n",
    "    windows = get_windows(windows_indexes_path_template.format(class_name=class_name))\n",
    "    chr2num_of_indexes = get_chr2number_of_indexes(windows)\n",
    "\n",
    "    for chr_id in range(min_chr, max_chr+1):\n",
    "        chr_name = f'chr{chr_id}'\n",
    "        value_from_vcf_split_stats = df[(df['chr_name_name']==chr_name) & (df['mac_or_maf']==class_name)]['num_of_sites_after_filter'].values[0]\n",
    "        assert value_from_vcf_split_stats == chr2num_of_indexes[str(chr_id)]\n",
    "\n",
    "import pandas as pd\n",
    "df = pd.read_csv(split_vcf_stats_path)\n",
    "df['mac_or_maf'] = df.apply(lambda r : r['mac'] if r['mac']!='-' else r['maf'], axis=1)\n",
    "\n",
    "\n",
    "for mac in range(min_mac, max_mac+1):\n",
    "    validate_number_of_sites_in_class(str(mac))\n",
    "for maf in range(min_maf, max_maf+1):\n",
    "    validate_number_of_sites_in_class(str(maf*1.0/100))\n",
    "print(f'PASSED - number of sites match those found in the split_vcf stats file for all relevant macs and mafs and chrs')  \n",
    "    "
   ]
  },
  {
   "cell_type": "code",
   "execution_count": null,
   "metadata": {},
   "outputs": [],
   "source": []
  }
 ],
 "metadata": {
  "kernelspec": {
   "display_name": "Python 3",
   "language": "python",
   "name": "python3"
  },
  "language_info": {
   "codemirror_mode": {
    "name": "ipython",
    "version": 3
   },
   "file_extension": ".py",
   "mimetype": "text/x-python",
   "name": "python",
   "nbconvert_exporter": "python",
   "pygments_lexer": "ipython3",
   "version": "3.7.4"
  },
  "toc": {
   "base_numbering": 1,
   "nav_menu": {},
   "number_sections": true,
   "sideBar": true,
   "skip_h1_title": true,
   "title_cell": "Table of Contents",
   "title_sidebar": "Contents",
   "toc_cell": true,
   "toc_position": {},
   "toc_section_display": true,
   "toc_window_display": false
  },
  "varInspector": {
   "cols": {
    "lenName": 16,
    "lenType": 16,
    "lenVar": 40
   },
   "kernels_config": {
    "python": {
     "delete_cmd_postfix": "",
     "delete_cmd_prefix": "del ",
     "library": "var_list.py",
     "varRefreshCmd": "print(var_dic_list())"
    },
    "r": {
     "delete_cmd_postfix": ") ",
     "delete_cmd_prefix": "rm(",
     "library": "var_list.r",
     "varRefreshCmd": "cat(var_dic_list()) "
    }
   },
   "types_to_exclude": [
    "module",
    "function",
    "builtin_function_or_method",
    "instance",
    "_Feature"
   ],
   "window_display": true
  }
 },
 "nbformat": 4,
 "nbformat_minor": 4
}

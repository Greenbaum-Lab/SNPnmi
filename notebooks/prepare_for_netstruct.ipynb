{
 "cells": [
  {
   "cell_type": "markdown",
   "metadata": {
    "toc": true
   },
   "source": [
    "<h1>Table of Contents<span class=\"tocSkip\"></span></h1>\n",
    "<div class=\"toc\"><ul class=\"toc-item\"></ul></div>"
   ]
  },
  {
   "cell_type": "code",
   "execution_count": 1,
   "metadata": {
    "ExecuteTime": {
     "end_time": "2021-03-30T18:46:49.455140Z",
     "start_time": "2021-03-30T18:46:48.337534Z"
    }
   },
   "outputs": [],
   "source": [
    "import pandas as pd"
   ]
  },
  {
   "cell_type": "code",
   "execution_count": 25,
   "metadata": {
    "ExecuteTime": {
     "end_time": "2021-03-30T19:04:14.422597Z",
     "start_time": "2021-03-30T19:04:14.413311Z"
    }
   },
   "outputs": [],
   "source": [
    "# inputs\n",
    "vcf_meta_data_file = r\"C:\\Data\\HUJI\\vcf\\hgdp\\hgdp_wgs.20190516.metadata.txt\"\n",
    "vcf_012_indv_file = r\"C:\\Data\\HUJI\\vcf\\hgdp\\classes\\chr1\\mac_2.012.indv\"\n",
    "\n",
    "# outputs\n",
    "indlist_coords_file = r\"C:\\Data\\HUJI\\vcf\\hgdp\\hgdp_wgs.20190516.indlist_coords.csv\"\n",
    "indlist_file = r\"C:\\Data\\HUJI\\vcf\\hgdp\\hgdp_wgs.20190516.indlist.csv\"\n",
    "SampleSites_file = r\"C:\\Data\\HUJI\\vcf\\hgdp\\hgdp_wgs.20190516.SampleSites.txt\"\n"
   ]
  },
  {
   "cell_type": "code",
   "execution_count": 17,
   "metadata": {
    "ExecuteTime": {
     "end_time": "2021-03-30T18:55:14.518506Z",
     "start_time": "2021-03-30T18:55:14.487206Z"
    }
   },
   "outputs": [],
   "source": [
    "vcf_meta_data = pd.read_csv(vcf_meta_data_file, sep = '\\t')\n",
    "\n",
    "def get_population_of_sample(sample):\n",
    "    return vcf_meta_data[vcf_meta_data['sample']==sample]['population'].values[0]\n",
    "\n",
    "def get_latitude_longitude_of_sample(sample):\n",
    "    return vcf_meta_data[vcf_meta_data['sample']==sample][['latitude','longitude']].values[0]\n",
    "\n",
    "assert get_population_of_sample('HGDP00001') == 'Brahui'\n",
    "assert get_latitude_longitude_of_sample('HGDP01415')[0] == -3.0\n",
    "assert get_latitude_longitude_of_sample('HGDP01415')[1] == 37.0"
   ]
  },
  {
   "cell_type": "code",
   "execution_count": 23,
   "metadata": {
    "ExecuteTime": {
     "end_time": "2021-03-30T19:00:57.058314Z",
     "start_time": "2021-03-30T19:00:55.735147Z"
    }
   },
   "outputs": [],
   "source": [
    "indlist_coords = []\n",
    "with open(vcf_012_indv_file) as f:\n",
    "    i = 0\n",
    "    for l in f.readlines():\n",
    "        sample = l.strip()\n",
    "        pop = get_population_of_sample(sample)\n",
    "        latitude, longitude = get_latitude_longitude_of_sample(sample)\n",
    "        indlist_coords.append([i, sample, pop, latitude, longitude])\n",
    "        i+=1\n",
    "indlist_coords_df = pd.DataFrame(indlist_coords, columns = ['i', 'sample', 'pop', 'latitude', 'longitude'])        "
   ]
  },
  {
   "cell_type": "code",
   "execution_count": 24,
   "metadata": {
    "ExecuteTime": {
     "end_time": "2021-03-30T19:00:57.742296Z",
     "start_time": "2021-03-30T19:00:57.731294Z"
    }
   },
   "outputs": [
    {
     "data": {
      "text/html": [
       "<div>\n",
       "<style scoped>\n",
       "    .dataframe tbody tr th:only-of-type {\n",
       "        vertical-align: middle;\n",
       "    }\n",
       "\n",
       "    .dataframe tbody tr th {\n",
       "        vertical-align: top;\n",
       "    }\n",
       "\n",
       "    .dataframe thead th {\n",
       "        text-align: right;\n",
       "    }\n",
       "</style>\n",
       "<table border=\"1\" class=\"dataframe\">\n",
       "  <thead>\n",
       "    <tr style=\"text-align: right;\">\n",
       "      <th></th>\n",
       "      <th>i</th>\n",
       "      <th>sample</th>\n",
       "      <th>pop</th>\n",
       "      <th>latitude</th>\n",
       "      <th>longitude</th>\n",
       "    </tr>\n",
       "  </thead>\n",
       "  <tbody>\n",
       "    <tr>\n",
       "      <th>0</th>\n",
       "      <td>0</td>\n",
       "      <td>HGDP01201</td>\n",
       "      <td>Mandenka</td>\n",
       "      <td>12.0</td>\n",
       "      <td>-12.0</td>\n",
       "    </tr>\n",
       "    <tr>\n",
       "      <th>1</th>\n",
       "      <td>1</td>\n",
       "      <td>HGDP00479</td>\n",
       "      <td>Biaka</td>\n",
       "      <td>4.0</td>\n",
       "      <td>17.0</td>\n",
       "    </tr>\n",
       "    <tr>\n",
       "      <th>2</th>\n",
       "      <td>2</td>\n",
       "      <td>HGDP01408</td>\n",
       "      <td>BantuKenya</td>\n",
       "      <td>-3.0</td>\n",
       "      <td>37.0</td>\n",
       "    </tr>\n",
       "    <tr>\n",
       "      <th>3</th>\n",
       "      <td>3</td>\n",
       "      <td>HGDP00471</td>\n",
       "      <td>Mbuti</td>\n",
       "      <td>1.0</td>\n",
       "      <td>29.0</td>\n",
       "    </tr>\n",
       "    <tr>\n",
       "      <th>4</th>\n",
       "      <td>4</td>\n",
       "      <td>HGDP01411</td>\n",
       "      <td>BantuKenya</td>\n",
       "      <td>-3.0</td>\n",
       "      <td>37.0</td>\n",
       "    </tr>\n",
       "    <tr>\n",
       "      <th>...</th>\n",
       "      <td>...</td>\n",
       "      <td>...</td>\n",
       "      <td>...</td>\n",
       "      <td>...</td>\n",
       "      <td>...</td>\n",
       "    </tr>\n",
       "    <tr>\n",
       "      <th>924</th>\n",
       "      <td>924</td>\n",
       "      <td>HGDP01355</td>\n",
       "      <td>Tu</td>\n",
       "      <td>36.0</td>\n",
       "      <td>101.0</td>\n",
       "    </tr>\n",
       "    <tr>\n",
       "      <th>925</th>\n",
       "      <td>925</td>\n",
       "      <td>HGDP01211</td>\n",
       "      <td>Oroqen</td>\n",
       "      <td>50.4</td>\n",
       "      <td>126.5</td>\n",
       "    </tr>\n",
       "    <tr>\n",
       "      <th>926</th>\n",
       "      <td>926</td>\n",
       "      <td>HGDP00798</td>\n",
       "      <td>Orcadian</td>\n",
       "      <td>59.0</td>\n",
       "      <td>-3.0</td>\n",
       "    </tr>\n",
       "    <tr>\n",
       "      <th>927</th>\n",
       "      <td>927</td>\n",
       "      <td>HGDP01203</td>\n",
       "      <td>Oroqen</td>\n",
       "      <td>50.4</td>\n",
       "      <td>126.5</td>\n",
       "    </tr>\n",
       "    <tr>\n",
       "      <th>928</th>\n",
       "      <td>928</td>\n",
       "      <td>HGDP00796</td>\n",
       "      <td>Orcadian</td>\n",
       "      <td>59.0</td>\n",
       "      <td>-3.0</td>\n",
       "    </tr>\n",
       "  </tbody>\n",
       "</table>\n",
       "<p>929 rows × 5 columns</p>\n",
       "</div>"
      ],
      "text/plain": [
       "       i     sample         pop  latitude  longitude\n",
       "0      0  HGDP01201    Mandenka      12.0      -12.0\n",
       "1      1  HGDP00479       Biaka       4.0       17.0\n",
       "2      2  HGDP01408  BantuKenya      -3.0       37.0\n",
       "3      3  HGDP00471       Mbuti       1.0       29.0\n",
       "4      4  HGDP01411  BantuKenya      -3.0       37.0\n",
       "..   ...        ...         ...       ...        ...\n",
       "924  924  HGDP01355          Tu      36.0      101.0\n",
       "925  925  HGDP01211      Oroqen      50.4      126.5\n",
       "926  926  HGDP00798    Orcadian      59.0       -3.0\n",
       "927  927  HGDP01203      Oroqen      50.4      126.5\n",
       "928  928  HGDP00796    Orcadian      59.0       -3.0\n",
       "\n",
       "[929 rows x 5 columns]"
      ]
     },
     "execution_count": 24,
     "metadata": {},
     "output_type": "execute_result"
    }
   ],
   "source": [
    "indlist_coords_df"
   ]
  },
  {
   "cell_type": "code",
   "execution_count": 27,
   "metadata": {
    "ExecuteTime": {
     "end_time": "2021-03-30T19:04:22.503479Z",
     "start_time": "2021-03-30T19:04:22.463836Z"
    }
   },
   "outputs": [],
   "source": [
    "indlist_coords_df[['pop','i','latitude', 'longitude']].to_csv(indlist_coords_file, index=False, header=False)\n",
    "indlist_coords_df[['pop']].to_csv(indlist_file, index=False, header=False)\n",
    "indlist_coords_df[['pop']].drop_duplicates().to_csv(SampleSites_file, index=False, header=False)"
   ]
  },
  {
   "cell_type": "code",
   "execution_count": null,
   "metadata": {},
   "outputs": [],
   "source": []
  }
 ],
 "metadata": {
  "kernelspec": {
   "display_name": "Python 3 (ipykernel)",
   "language": "python",
   "name": "python3"
  },
  "language_info": {
   "codemirror_mode": {
    "name": "ipython",
    "version": 3
   },
   "file_extension": ".py",
   "mimetype": "text/x-python",
   "name": "python",
   "nbconvert_exporter": "python",
   "pygments_lexer": "ipython3",
   "version": "3.8.10"
  },
  "toc": {
   "base_numbering": 1,
   "nav_menu": {},
   "number_sections": true,
   "sideBar": true,
   "skip_h1_title": true,
   "title_cell": "Table of Contents",
   "title_sidebar": "Contents",
   "toc_cell": true,
   "toc_position": {},
   "toc_section_display": true,
   "toc_window_display": false
  },
  "varInspector": {
   "cols": {
    "lenName": 16,
    "lenType": 16,
    "lenVar": 40
   },
   "kernels_config": {
    "python": {
     "delete_cmd_postfix": "",
     "delete_cmd_prefix": "del ",
     "library": "var_list.py",
     "varRefreshCmd": "print(var_dic_list())"
    },
    "r": {
     "delete_cmd_postfix": ") ",
     "delete_cmd_prefix": "rm(",
     "library": "var_list.r",
     "varRefreshCmd": "cat(var_dic_list()) "
    }
   },
   "types_to_exclude": [
    "module",
    "function",
    "builtin_function_or_method",
    "instance",
    "_Feature"
   ],
   "window_display": true
  }
 },
 "nbformat": 4,
 "nbformat_minor": 4
}

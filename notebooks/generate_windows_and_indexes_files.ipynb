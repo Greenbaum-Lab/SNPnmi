{
 "cells": [
  {
   "cell_type": "markdown",
   "metadata": {
    "toc": true
   },
   "source": [
    "<h1>Table of Contents<span class=\"tocSkip\"></span></h1>\n",
    "<div class=\"toc\"><ul class=\"toc-item\"></ul></div>"
   ]
  },
  {
   "cell_type": "code",
   "execution_count": 1,
   "metadata": {
    "ExecuteTime": {
     "end_time": "2021-03-10T08:30:33.977710Z",
     "start_time": "2021-03-10T08:30:33.035356Z"
    }
   },
   "outputs": [
    {
     "name": "stdout",
     "output_type": "stream",
     "text": [
      "mac -1\n",
      "maf 0.49\n"
     ]
    }
   ],
   "source": [
    "import sys\n",
    "import time\n",
    "import os\n",
    "import json \n",
    "import pandas as pd\n",
    "import random\n",
    "import gzip \n",
    "from os.path import dirname, abspath\n",
    "root_path = 'C:\\Repos\\HUJI\\snpnmi'\n",
    "sys.path.append(root_path)\n",
    "\n",
    "from utils.common import normalize_distances, get_number_of_windows_by_class, build_empty_upper_left_matrix, write_upper_left_matrix_to_file, str2bool, get_paths_helper\n",
    "from utils.config import get_num_chrs, get_num_individuals\n",
    "\n",
    "random.seed(a='42', version=2)\n",
    "\n",
    "# params\n",
    "mac=-1\n",
    "maf=0.49\n",
    "\n",
    "\n",
    "print('mac',mac)\n",
    "print('maf',maf)\n",
    "mac_maf = 'maf'\n",
    "class_name = '0.49'\n",
    "number_of_splits = 10\n"
   ]
  },
  {
   "cell_type": "code",
   "execution_count": 2,
   "metadata": {
    "ExecuteTime": {
     "end_time": "2021-03-10T08:30:34.478756Z",
     "start_time": "2021-03-10T08:30:34.447480Z"
    }
   },
   "outputs": [
    {
     "name": "stdout",
     "output_type": "stream",
     "text": [
      "C:/Data/HUJI/vcf/hgdp/classes/windows/maf_0.49/transposed/\n",
      "C:/Data/HUJI/vcf/hgdp/classes/windows/maf_0.49/transposed/window_{window_id}_transposed.012.tsv.gz\n",
      "C:/Data/HUJI/vcf/hgdp/classes/windows/maf_0.49/transposed/window_{window_id}_split_{split_id}_transposed.012.tsv.gz\n",
      "C:/Data/HUJI/vcf/hgdp/classes/windows/indexes/windows_indexes_for_class_0.49_window_{window_id}_split.json\n"
     ]
    }
   ],
   "source": [
    "#  we dont want to use the same seed here, as we will have the same values for all clasees\n",
    "paths_helper = get_paths_helper()\n",
    "\n",
    "# /vol/sci/bio/data/gil.greenbaum/amir.rubin/vcf/hgdp/classes/windows/mac_2/transposed/window_0_transposed.tsv.gz\n",
    "window_transposed_folder = paths_helper.windows_folder + f'{mac_maf}_{class_name}/transposed/'\n",
    "\n",
    "# input\n",
    "input_window_transposed_template = window_transposed_folder + 'window_{window_id}_transposed.012.tsv.gz'\n",
    "\n",
    "# output splits\n",
    "output_splits_transposed_template = window_transposed_folder + 'window_{window_id}_split_{split_id}_transposed.012.tsv.gz'\n",
    "\n",
    "# output indexes: /vol/sci/bio/data/gil.greenbaum/amir.rubin/vcf/hgdp/classes/windows/indexes/windows_indexes_for_class_2.json\n",
    " #   self.windows_indexes_template = self.windows_indexes_folder + 'windows_indexes_for_class_{class_name}.json'\n",
    "indexes_file_template = paths_helper.windows_indexes_template.format(class_name=f'{class_name}_window_'+'{window_id}_split')\n",
    "\n",
    "print(window_transposed_folder)\n",
    "print(input_window_transposed_template)\n",
    "print(output_splits_transposed_template)\n",
    "print(indexes_file_template)\n",
    "\n",
    "# make sure output folders exists\n",
    "os.makedirs(paths_helper.windows_indexes_folder, exist_ok=True)\n"
   ]
  },
  {
   "cell_type": "code",
   "execution_count": 5,
   "metadata": {
    "ExecuteTime": {
     "end_time": "2021-03-10T08:32:12.904706Z",
     "start_time": "2021-03-10T08:32:12.833565Z"
    }
   },
   "outputs": [
    {
     "name": "stdout",
     "output_type": "stream",
     "text": [
      "0\n",
      "C:/Data/HUJI/vcf/hgdp/classes/windows/maf_0.49/transposed/window_0_split_{split_id}_transposed.012.tsv.gz\n",
      "Open 10 output_files\n",
      "Done\n",
      "Close 10 output_files\n",
      "Done\n"
     ]
    }
   ],
   "source": [
    "import os, os.path\n",
    "\n",
    "num_input_windows = len([name for name in os.listdir(window_transposed_folder) if os.path.isfile(window_transposed_folder + name) and name.endswith('_transposed.012.tsv.gz')])\n",
    "for window_id in range(num_input_windows):\n",
    "    print(window_id)\n",
    "    input_file = input_window_transposed_template.format(window_id=window_id)\n",
    "    assert os.path.exists(input_file)\n",
    "    metadata_for_dic =  f''\n",
    "    output_file_name_template = output_splits_transposed_template.replace('{window_id}', str(window_id))\n",
    "    split_index_2_original_line_numbers_file = indexes_file_template.format(window_id=window_id)\n",
    "    split_file(input_file, output_file_name_template, number_of_splits, split_index_2_original_line_numbers_file, metadata_for_dic)\n",
    "    break"
   ]
  },
  {
   "cell_type": "code",
   "execution_count": 3,
   "metadata": {
    "ExecuteTime": {
     "end_time": "2021-03-10T08:30:36.192887Z",
     "start_time": "2021-03-10T08:30:36.170282Z"
    }
   },
   "outputs": [],
   "source": [
    "\n",
    "def append_to_dic(dic, key, value):\n",
    "    if not key in dic.keys():\n",
    "        dic[key] = []\n",
    "    dic[key].append(value)\n",
    "    \n",
    "def split_file(input_file, output_file_name_template, number_of_splits, split_index_2_original_line_numbers_file, metadata_for_dic):\n",
    "        print(output_file_name_template)\n",
    "        split_index_2_original_line_numbers = dict()\n",
    "        print(f'Open {number_of_splits} output_files')\n",
    "        output_files = [gzip.open(output_file_name_template.format(split_id=i), 'ab') for i in range(number_of_splits)]\n",
    "\n",
    "        print(f'Done')\n",
    "\n",
    "        with gzip.open(input_file, 'rb') as f:\n",
    "\n",
    "            l =  f.readline()\n",
    "            i = 0\n",
    "            while l:\n",
    "                split_index = random.randint(0, number_of_splits-1)\n",
    "                append_to_dic(split_index_2_original_line_numbers, split_index, f'{metadata_for_dic};{i}')\n",
    "                output_file = output_files[split_index]\n",
    "                output_file.write(l)\n",
    "                i += 1\n",
    "                l = f.readline()\n",
    "        print(f'Close {number_of_splits} output_files')\n",
    "        for f in output_files:\n",
    "            f.close()\n",
    "        print(f'Done')\n",
    "        with open(split_index_2_original_line_numbers_file, \"w\" ) as f:\n",
    "            json.dump(split_index_2_original_line_numbers, f )"
   ]
  },
  {
   "cell_type": "code",
   "execution_count": null,
   "metadata": {},
   "outputs": [],
   "source": []
  },
  {
   "cell_type": "code",
   "execution_count": 7,
   "metadata": {
    "ExecuteTime": {
     "end_time": "2021-03-03T12:05:05.976980Z",
     "start_time": "2021-03-03T12:05:05.919390Z"
    }
   },
   "outputs": [
    {
     "name": "stdout",
     "output_type": "stream",
     "text": [
      "mac -1\n",
      "maf 0.49\n",
      "C:/Data/HUJI/vcf/hgdp/classes/chr{chr_id}/maf_0.49.012\n",
      "C:/Data/HUJI/vcf/hgdp/classes/windows/indexes/windows_indexes_for_class_0.49.json\n",
      "C:/Data/HUJI/vcf/hgdp/classes/windows/maf_0.49/count_dist_window_{window_id}_transposed.tsv.gz\n",
      "988\n",
      "22\n",
      "1614773105.9690177 Start process chr 1\n"
     ]
    },
    {
     "ename": "NameError",
     "evalue": "name 'random_split_class_from_chr_to_windows' is not defined",
     "output_type": "error",
     "traceback": [
      "\u001b[1;31m---------------------------------------------------------------------------\u001b[0m",
      "\u001b[1;31mNameError\u001b[0m                                 Traceback (most recent call last)",
      "\u001b[1;32m<ipython-input-7-8c00f24a16a5>\u001b[0m in \u001b[0;36m<module>\u001b[1;34m\u001b[0m\n\u001b[0;32m     56\u001b[0m     \u001b[0mprint\u001b[0m\u001b[1;33m(\u001b[0m\u001b[1;34mf'{s} Start process chr {chr_id}'\u001b[0m\u001b[1;33m)\u001b[0m\u001b[1;33m\u001b[0m\u001b[1;33m\u001b[0m\u001b[0m\n\u001b[0;32m     57\u001b[0m     \u001b[0mchr_class_file\u001b[0m \u001b[1;33m=\u001b[0m \u001b[0minput_per_chr_template\u001b[0m\u001b[1;33m.\u001b[0m\u001b[0mformat\u001b[0m\u001b[1;33m(\u001b[0m\u001b[0mchr_id\u001b[0m\u001b[1;33m=\u001b[0m\u001b[0mchr_id\u001b[0m\u001b[1;33m)\u001b[0m\u001b[1;33m\u001b[0m\u001b[1;33m\u001b[0m\u001b[0m\n\u001b[1;32m---> 58\u001b[1;33m     \u001b[0mrandom_split_class_from_chr_to_windows\u001b[0m\u001b[1;33m(\u001b[0m\u001b[0mchr_class_file\u001b[0m\u001b[1;33m,\u001b[0m \u001b[0mnumber_of_windows\u001b[0m\u001b[1;33m,\u001b[0m \u001b[0mwindows_indexes_file\u001b[0m\u001b[1;33m,\u001b[0m \u001b[0mwindows_transposed_template\u001b[0m\u001b[1;33m)\u001b[0m\u001b[1;33m\u001b[0m\u001b[1;33m\u001b[0m\u001b[0m\n\u001b[0m\u001b[0;32m     59\u001b[0m \u001b[1;33m\u001b[0m\u001b[0m\n\u001b[0;32m     60\u001b[0m \u001b[1;33m\u001b[0m\u001b[0m\n",
      "\u001b[1;31mNameError\u001b[0m: name 'random_split_class_from_chr_to_windows' is not defined"
     ]
    }
   ],
   "source": [
    "#  we dont want to use the same seed here, as we will have the same values for all clasees\n",
    "paths_helper = get_paths_helper()\n",
    "\n",
    "# inputs are /vol/sci/bio/data/gil.greenbaum/amir.rubin/vcf/hgdp/classes/chr21/mac_2.012\n",
    "input_per_chr_template = paths_helper.classes_folder + 'chr{chr_id}/' + f'{mac_maf}_{class_name}.012'\n",
    "\n",
    "# outputs are \n",
    "# indexes: /vol/sci/bio/data/gil.greenbaum/amir.rubin/vcf/hgdp/classes/windows/indexes/windows_indexes_for_class_2.json\n",
    "windows_indexes_file = paths_helper.windows_indexes_template.format(class_name=class_name)\n",
    "\n",
    "# transposed windows: \n",
    "# /vol/sci/bio/data/gil.greenbaum/amir.rubin/vcf/hgdp/classes/windows/mac_2/count_dist_window_0_transposed.tsv.gz\n",
    "windows_transposed_template = paths_helper.windows_folder + f'{mac_maf}_{class_name}/count_dist_window_' + '{window_id}_transposed.tsv.gz'\n",
    "\n",
    "print(input_per_chr_template)\n",
    "print(windows_indexes_file)\n",
    "print(windows_transposed_template)\n",
    "\n",
    "# make sure output folders exists\n",
    "os.makedirs(paths_helper.windows_indexes_folder, exist_ok=True)\n",
    "os.makedirs('/'.join(windows_transposed_template.split('/')[:-1]), exist_ok=True)\n",
    "number_of_windows = get_number_of_windows_by_class()[str(class_name)]\n",
    "print(number_of_windows)\n",
    "\n",
    "num_chrs = get_num_chrs()\n",
    "print(num_chrs)\n",
    "\n",
    "# go over chrs\n",
    "for chr_id in range(1,num_chrs+1):\n",
    "    s = time.time()\n",
    "    print(f'{s} Start process chr {chr_id}')\n",
    "    chr_class_file = input_per_chr_template.format(chr_id=chr_id)\n",
    "    random_split_class_from_chr_to_windows(chr_class_file, number_of_windows, windows_indexes_file, windows_transposed_template)\n",
    "\n",
    "\n",
    "print(f'{(time.time()-s)/60} minutes total run time')"
   ]
  },
  {
   "cell_type": "code",
   "execution_count": 8,
   "metadata": {
    "ExecuteTime": {
     "end_time": "2021-03-03T12:05:39.711495Z",
     "start_time": "2021-03-03T12:05:39.702504Z"
    }
   },
   "outputs": [],
   "source": [
    "def append_to_dic(dic, key, value):\n",
    "    if not key in dic.keys():\n",
    "        dic[key] = []\n",
    "    dic[key].append(value)"
   ]
  },
  {
   "cell_type": "code",
   "execution_count": 16,
   "metadata": {
    "ExecuteTime": {
     "end_time": "2021-03-03T12:07:11.535606Z",
     "start_time": "2021-03-03T12:07:11.527629Z"
    }
   },
   "outputs": [],
   "source": [
    "def validate_windows_indexes(windows_indexes, chr_id, expected_num_indexes, expected_num_windows):\n",
    "    all_indexes = []\n",
    "    for k in windows_indexes.keys():\n",
    "        for c_i in windows_indexes[k]:\n",
    "            c,i = c_i.split(';',2)\n",
    "            assert c==str(chr_id)\n",
    "            ii = int(i)\n",
    "            assert not ii in all_indexes\n",
    "            all_indexes.append(ii)\n",
    "    assert len(all_indexes) == expected_num_indexes\n",
    "    assert len(windows_indexes.keys()) == expected_num_windows    "
   ]
  },
  {
   "cell_type": "code",
   "execution_count": 19,
   "metadata": {
    "ExecuteTime": {
     "end_time": "2021-03-03T12:07:35.670369Z",
     "start_time": "2021-03-03T12:07:26.803462Z"
    }
   },
   "outputs": [
    {
     "name": "stdout",
     "output_type": "stream",
     "text": [
      "Will have 4, each of max size 2000\n",
      "Process [1, 2000) in batch 1/4\n",
      "Done 500/1999 sites in batch 1/4\n",
      "Done 1000/1999 sites in batch 1/4\n",
      "Done 1500/1999 sites in batch 1/4\n",
      "Process [2000, 4000) in batch 2/4\n",
      "Done 500/2000 sites in batch 2/4\n",
      "Done 1000/2000 sites in batch 2/4\n",
      "Done 1500/2000 sites in batch 2/4\n",
      "Done 2000/2000 sites in batch 2/4\n",
      "Process [4000, 6000) in batch 3/4\n",
      "Done 500/2000 sites in batch 3/4\n",
      "Done 1000/2000 sites in batch 3/4\n",
      "Done 1500/2000 sites in batch 3/4\n",
      "Done 2000/2000 sites in batch 3/4\n",
      "Process [6000, 7392) in batch 4/4\n",
      "Done 500/1392 sites in batch 4/4\n",
      "Done 1000/1392 sites in batch 4/4\n"
     ]
    }
   ],
   "source": [
    "window_index_2_site_index = dict()\n",
    "with open(chr_class_file,'r') as f:\n",
    "    # the first column is the index!\n",
    "    num_columns = len(f.readline().split('\\t'))\n",
    "# the first column is the index!\n",
    "min_col_index_in_batch = 1\n",
    "max_col_index_in_batch = min(num_columns, batch_size)\n",
    "batch_index = 1\n",
    "num_batches = int(num_columns/batch_size) + 1\n",
    "print(f'Will have {num_batches}, each of max size {batch_size}')\n",
    "while min_col_index_in_batch < max_col_index_in_batch:\n",
    "    print(f'Process [{min_col_index_in_batch}, {max_col_index_in_batch}) in batch {batch_index}/{num_batches}')\n",
    "    usecols = range(min_col_index_in_batch, max_col_index_in_batch)\n",
    "    names = [str(i) for i in range(min_col_index_in_batch, max_col_index_in_batch)]\n",
    "    batch_df = pd.read_csv(chr_class_file, sep='\\t', usecols=usecols, index_col=False, names=names)\n",
    "    assert batch_df.iloc[:,0].max() <= 2\n",
    "    i = 0\n",
    "    #process_batch_df(batch_df, batch_index, num_batches, number_of_windows, window_index_2_site_index, chr_id, windows_transposed_template)\n",
    "    for (columnName, columnData) in batch_df.iteritems():\n",
    "        i += 1\n",
    "        if i%500 == 0:\n",
    "            print(f'Done {i}/{len(batch_df.columns)} sites in batch {batch_index}/{num_batches}' )\n",
    "        window_index = random.randint(0, number_of_windows-1)\n",
    "        # store the index in the file mapping windows to indexes used\n",
    "        append_to_dic(window_index_2_site_index, window_index, f'{chr_id};{columnName}')\n",
    "        #print(f'write {columnName} to {window_index}')    \n",
    "        # append the column as a row to the right window file\n",
    "        window_transposed_file = windows_transposed_template.format(window_id=window_index)\n",
    "        #with gzip.open(window_transposed_file,'ab') as f:\n",
    "        #    s = '\\t'.join([str(i) for i in columnData.values]) + '\\n'\n",
    "        #    f.write(s.encode()) \n",
    "        with open(window_transposed_file,'a') as f:\n",
    "                s = '\\t'.join([str(i) for i in columnData.values]) + '\\n'\n",
    "                f.write(s) \n",
    "    \n",
    "    min_col_index_in_batch = min(num_columns, max_col_index_in_batch)\n",
    "    max_col_index_in_batch = min(num_columns, max_col_index_in_batch + batch_size)\n",
    "    batch_index += 1\n",
    "\n",
    "validate_windows_indexes(window_index_2_site_index, chr_id, num_columns-1, number_of_windows)\n",
    "\n",
    "with open(windows_indexes_file, \"w\" ) as f: \n",
    "        json.dump(window_index_2_site_index, f )  "
   ]
  },
  {
   "cell_type": "code",
   "execution_count": 39,
   "metadata": {
    "ExecuteTime": {
     "end_time": "2021-03-03T09:11:10.204312Z",
     "start_time": "2021-03-03T09:11:09.334777Z"
    }
   },
   "outputs": [],
   "source": [
    "import gzip\n",
    "#def random_split_class_from_chr_to_windows(chr_id, chr_class_file, number_of_windows, windows_indexes_file, windows_transposed_template):\n",
    "# load file to memory\n",
    "with open(chr_class_file,'r') as f:\n",
    "        num_columns = len(f.readline().split('\\t'))\n",
    "names = [f'idx{i}' for i in range(num_columns)]\n",
    "df_012 = pd.read_csv(chr_class_file, sep='\\t', names= names)\n",
    "print(f'Number of sites: {len(df_012.columns)}')\n",
    "num_ind = len(df_012)\n",
    "assert num_ind == get_num_individuals()\n",
    "\n",
    "window_index_2_site_index = dict()\n",
    "i = 0\n",
    "for (columnName, columnData) in df_012.iteritems():\n",
    "    i += 1\n",
    "    if i%1000 == 0:\n",
    "        print(f'Done {i}/{len(df_012.columns)} sites' )\n",
    "    window_index = random.randint(1, number_of_windows)\n",
    "    # store the index in the file mapping windows to indexes used\n",
    "    append_to_dic(window_index_2_site_index, window_index, f'{chr_id};{columnName[3:]}')\n",
    "    #print(f'write {columnName} to {window_index}')    \n",
    "    # append the column as a row to the right window file\n",
    "    window_transposed_file = windows_transposed_template.format(window_id=window_index)\n",
    "    with gzip.open(window_transposed_file,'ab') as f:\n",
    "        s = '\\t'.join([str(i) for i in columnData.values]) + '\\n'\n",
    "        f.write(s.encode()) \n",
    "\n",
    "with open(windows_indexes_file, \"w\" ) as f: \n",
    "        json.dump(window_index_2_site_index, f )\n",
    "        \n",
    "        # will take 3.5 minutes to process each window of 100 slices."
   ]
  },
  {
   "cell_type": "code",
   "execution_count": 1,
   "metadata": {
    "ExecuteTime": {
     "end_time": "2021-03-03T11:45:43.315239Z",
     "start_time": "2021-03-03T11:45:43.299299Z"
    }
   },
   "outputs": [],
   "source": [
    "test_window_transposed_file = 'C:/Data/HUJI/vcf/hgdp/classes/windows/maf_0.49/count_dist_window_0_transposed.tsv'\n",
    "test_window_not_transposed_file = 'C:/Data/HUJI/vcf/hgdp/classes/windows/maf_0.49/count_dist_window_0.tsv'"
   ]
  },
  {
   "cell_type": "code",
   "execution_count": 4,
   "metadata": {
    "ExecuteTime": {
     "end_time": "2021-03-03T11:46:53.871893Z",
     "start_time": "2021-03-03T11:46:53.731940Z"
    }
   },
   "outputs": [],
   "source": [
    "import pandas as pd\n",
    "import gzip\n",
    "# transpose and output to file\n",
    "with open(test_window_transposed_file,'r') as f:\n",
    "        num_columns = len(f.readline().split('\\t'))\n",
    "names = [f'{i+1}' for i in range(num_columns)]\n",
    "df1 = pd.read_csv(test_window_transposed_file, sep='\\t', names=names) \n",
    "df1.transpose()\n",
    "#TODO window_not_transposed_file\n",
    "df1.transpose().to_csv(test_window_not_transposed_file+'.gz', sep='\\t', index=True,header=False, compression='gzip')\n",
    "df1.transpose().to_csv(test_window_not_transposed_file,index=True, sep='\\t', header=False)\n"
   ]
  },
  {
   "cell_type": "code",
   "execution_count": 124,
   "metadata": {
    "ExecuteTime": {
     "end_time": "2021-03-03T11:34:32.559441Z",
     "start_time": "2021-03-03T11:34:32.231028Z"
    }
   },
   "outputs": [],
   "source": [
    "# TODO add assertion for windows_indexes\n",
    "d = json.load(open(windows_indexes_file,'r'))\n",
    "allis = []\n",
    "for k in d.keys():\n",
    "    for ci in d[k]:\n",
    "        c,i = ci.split(';',2)\n",
    "        assert c=='5'\n",
    "        ii = int(i)\n",
    "        assert not ii in allis\n",
    "        allis.append(ii)"
   ]
  },
  {
   "cell_type": "code",
   "execution_count": 13,
   "metadata": {
    "ExecuteTime": {
     "end_time": "2021-03-10T09:33:53.441055Z",
     "start_time": "2021-03-10T09:33:53.429751Z"
    }
   },
   "outputs": [
    {
     "name": "stdout",
     "output_type": "stream",
     "text": [
      "1\t0\t0\r\n",
      "\n",
      "3\n",
      "[b'3\\t1\\t1\\r\\n', b'4\\t1\\t1\\r\\n', b'5\\t0\\t0\\r\\n', b'6\\t0\\t1\\r\\n', b'7\\t0\\t2\\r\\n', b'8\\t0\\t0\\r\\n', b'9\\t1\\t0\\r\\n', b'10\\t1\\t0\\r\\n', b'11\\t2\\t2\\r\\n', b'12\\t0\\t0\\r\\n', b'13\\t0\\t0\\r\\n', b'14\\t0\\t1\\r\\n', b'15\\t0\\t0\\r\\n', b'16\\t0\\t0\\r\\n', b'17\\t0\\t0\\r\\n', b'18\\t0\\t0\\r\\n', b'19\\t0\\t0\\r\\n', b'20\\t0\\t0\\r\\n', b'21\\t0\\t0\\r\\n', b'22\\t0\\t0\\r\\n', b'23\\t1\\t0\\r\\n', b'24\\t0\\t0\\r\\n', b'25\\t1\\t1\\r\\n', b'26\\t0\\t1\\r\\n', b'27\\t0\\t1\\r\\n', b'28\\t0\\t1\\r\\n', b'29\\t0\\t0\\r\\n', b'30\\t0\\t0\\r\\n', b'31\\t1\\t1\\r\\n', b'32\\t0\\t0\\r\\n', b'33\\t0\\t0\\r\\n', b'34\\t1\\t-1\\r\\n', b'35\\t0\\t1\\r\\n', b'36\\t0\\t0\\r\\n', b'37\\t1\\t0\\r\\n', b'38\\t0\\t0\\r\\n', b'39\\t0\\t0\\r\\n', b'40\\t0\\t0\\r\\n', b'41\\t0\\t0\\r\\n', b'42\\t1\\t0\\r\\n', b'43\\t1\\t1\\r\\n', b'44\\t1\\t2\\r\\n', b'45\\t0\\t0\\r\\n', b'46\\t0\\t0\\r\\n', b'47\\t0\\t0\\r\\n', b'48\\t0\\t1\\r\\n', b'49\\t0\\t0\\r\\n', b'50\\t0\\t1\\r\\n', b'51\\t2\\t0\\r\\n', b'52\\t2\\t1\\r\\n', b'53\\t2\\t0\\r\\n', b'54\\t0\\t1\\r\\n', b'55\\t0\\t0\\r\\n', b'56\\t0\\t0\\r\\n', b'57\\t0\\t0\\r\\n', b'58\\t1\\t1\\r\\n', b'59\\t1\\t0\\r\\n', b'60\\t0\\t2\\r\\n', b'61\\t0\\t1\\r\\n', b'62\\t1\\t2\\r\\n', b'63\\t1\\t0\\r\\n', b'64\\t2\\t1\\r\\n', b'65\\t1\\t0\\r\\n', b'66\\t0\\t2\\r\\n', b'67\\t1\\t0\\r\\n', b'68\\t1\\t2\\r\\n', b'69\\t0\\t2\\r\\n', b'70\\t0\\t0\\r\\n', b'71\\t0\\t0\\r\\n', b'72\\t2\\t2\\r\\n', b'73\\t2\\t1\\r\\n', b'74\\t1\\t1\\r\\n', b'75\\t2\\t1\\r\\n', b'76\\t1\\t0\\r\\n', b'77\\t2\\t1\\r\\n', b'78\\t1\\t1\\r\\n', b'79\\t0\\t2\\r\\n', b'80\\t1\\t1\\r\\n', b'81\\t2\\t1\\r\\n', b'82\\t1\\t1\\r\\n', b'83\\t1\\t0\\r\\n', b'84\\t1\\t0\\r\\n', b'85\\t2\\t2\\r\\n', b'86\\t1\\t0\\r\\n', b'87\\t0\\t0\\r\\n', b'88\\t1\\t0\\r\\n', b'89\\t1\\t2\\r\\n', b'90\\t1\\t1\\r\\n', b'91\\t0\\t2\\r\\n', b'92\\t1\\t0\\r\\n', b'93\\t0\\t0\\r\\n', b'94\\t2\\t1\\r\\n', b'95\\t1\\t1\\r\\n', b'96\\t1\\t1\\r\\n', b'97\\t1\\t1\\r\\n', b'98\\t1\\t2\\r\\n', b'99\\t1\\t2\\r\\n', b'100\\t1\\t2\\r\\n', b'101\\t1\\t2\\r\\n', b'102\\t2\\t1\\r\\n', b'103\\t1\\t1\\r\\n', b'104\\t1\\t2\\r\\n', b'105\\t0\\t1\\r\\n', b'106\\t1\\t1\\r\\n', b'107\\t1\\t0\\r\\n', b'108\\t0\\t0\\r\\n', b'109\\t0\\t1\\r\\n', b'110\\t1\\t1\\r\\n', b'111\\t1\\t1\\r\\n', b'112\\t1\\t1\\r\\n', b'113\\t1\\t0\\r\\n', b'114\\t1\\t1\\r\\n', b'115\\t2\\t0\\r\\n', b'116\\t0\\t0\\r\\n', b'117\\t1\\t2\\r\\n', b'118\\t1\\t1\\r\\n', b'119\\t1\\t1\\r\\n', b'120\\t1\\t0\\r\\n', b'121\\t0\\t0\\r\\n', b'122\\t0\\t0\\r\\n', b'123\\t1\\t0\\r\\n', b'124\\t1\\t0\\r\\n', b'125\\t0\\t0\\r\\n', b'126\\t2\\t0\\r\\n', b'127\\t0\\t0\\r\\n', b'128\\t2\\t2\\r\\n', b'129\\t1\\t1\\r\\n', b'130\\t2\\t1\\r\\n', b'131\\t0\\t2\\r\\n', b'132\\t1\\t2\\r\\n', b'133\\t0\\t1\\r\\n', b'134\\t1\\t0\\r\\n', b'135\\t1\\t1\\r\\n', b'136\\t1\\t0\\r\\n', b'137\\t0\\t0\\r\\n', b'138\\t1\\t0\\r\\n', b'139\\t2\\t2\\r\\n', b'140\\t1\\t2\\r\\n', b'141\\t0\\t1\\r\\n', b'142\\t0\\t0\\r\\n', b'143\\t2\\t2\\r\\n', b'144\\t1\\t2\\r\\n', b'145\\t0\\t0\\r\\n', b'146\\t1\\t2\\r\\n', b'147\\t2\\t0\\r\\n', b'148\\t0\\t0\\r\\n', b'149\\t0\\t2\\r\\n', b'150\\t2\\t2\\r\\n', b'151\\t0\\t0\\r\\n', b'152\\t0\\t2\\r\\n', b'153\\t0\\t1\\r\\n', b'154\\t0\\t2\\r\\n', b'155\\t0\\t1\\r\\n', b'156\\t1\\t2\\r\\n', b'157\\t0\\t1\\r\\n', b'158\\t0\\t0\\r\\n', b'159\\t0\\t0\\r\\n', b'160\\t1\\t2\\r\\n', b'161\\t1\\t2\\r\\n', b'162\\t1\\t0\\r\\n', b'163\\t1\\t2\\r\\n', b'164\\t0\\t1\\r\\n', b'165\\t0\\t2\\r\\n', b'166\\t0\\t1\\r\\n', b'167\\t1\\t2\\r\\n', b'168\\t0\\t2\\r\\n', b'169\\t1\\t1\\r\\n', b'170\\t2\\t1\\r\\n', b'171\\t0\\t1\\r\\n', b'172\\t0\\t1\\r\\n', b'173\\t0\\t2\\r\\n', b'174\\t-1\\t0\\r\\n', b'175\\t0\\t0\\r\\n', b'176\\t2\\t0\\r\\n', b'177\\t1\\t1\\r\\n', b'178\\t0\\t1\\r\\n', b'179\\t0\\t0\\r\\n', b'180\\t0\\t2\\r\\n', b'181\\t1\\t0\\r\\n', b'182\\t2\\t2\\r\\n', b'183\\t0\\t1\\r\\n', b'184\\t1\\t1\\r\\n', b'185\\t0\\t2\\r\\n', b'186\\t0\\t2\\r\\n', b'187\\t2\\t0\\r\\n', b'188\\t0\\t1\\r\\n', b'189\\t0\\t1\\r\\n', b'190\\t0\\t0\\r\\n', b'191\\t0\\t2\\r\\n', b'192\\t2\\t2\\r\\n', b'193\\t1\\t2\\r\\n', b'194\\t1\\t2\\r\\n', b'195\\t1\\t2\\r\\n', b'196\\t1\\t0\\r\\n', b'197\\t0\\t1\\r\\n', b'198\\t0\\t1\\r\\n', b'199\\t0\\t1\\r\\n', b'200\\t1\\t1\\r\\n', b'201\\t2\\t1\\r\\n', b'202\\t0\\t2\\r\\n', b'203\\t2\\t0\\r\\n', b'204\\t1\\t1\\r\\n', b'205\\t0\\t2\\r\\n', b'206\\t0\\t2\\r\\n', b'207\\t1\\t2\\r\\n', b'208\\t1\\t1\\r\\n', b'209\\t1\\t1\\r\\n', b'210\\t0\\t1\\r\\n', b'211\\t0\\t2\\r\\n', b'212\\t0\\t0\\r\\n', b'213\\t0\\t2\\r\\n', b'214\\t0\\t2\\r\\n', b'215\\t1\\t1\\r\\n', b'216\\t1\\t2\\r\\n', b'217\\t0\\t2\\r\\n', b'218\\t1\\t2\\r\\n', b'219\\t0\\t2\\r\\n', b'220\\t0\\t2\\r\\n', b'221\\t1\\t0\\r\\n', b'222\\t0\\t2\\r\\n', b'223\\t0\\t2\\r\\n', b'224\\t-1\\t2\\r\\n', b'225\\t1\\t2\\r\\n', b'226\\t0\\t0\\r\\n', b'227\\t1\\t1\\r\\n', b'228\\t0\\t0\\r\\n', b'229\\t0\\t1\\r\\n', b'230\\t0\\t2\\r\\n', b'231\\t0\\t1\\r\\n', b'232\\t0\\t0\\r\\n', b'233\\t1\\t1\\r\\n', b'234\\t0\\t0\\r\\n', b'235\\t0\\t1\\r\\n', b'236\\t0\\t2\\r\\n', b'237\\t0\\t1\\r\\n', b'238\\t0\\t2\\r\\n', b'239\\t0\\t1\\r\\n', b'240\\t1\\t2\\r\\n', b'241\\t2\\t2\\r\\n', b'242\\t0\\t1\\r\\n', b'243\\t1\\t2\\r\\n', b'244\\t1\\t2\\r\\n', b'245\\t0\\t2\\r\\n', b'246\\t0\\t1\\r\\n', b'247\\t1\\t2\\r\\n', b'248\\t0\\t1\\r\\n', b'249\\t2\\t1\\r\\n', b'250\\t2\\t1\\r\\n', b'251\\t1\\t2\\r\\n', b'252\\t0\\t1\\r\\n', b'253\\t1\\t2\\r\\n', b'254\\t1\\t2\\r\\n', b'255\\t0\\t2\\r\\n', b'256\\t1\\t1\\r\\n', b'257\\t1\\t2\\r\\n', b'258\\t1\\t1\\r\\n', b'259\\t0\\t2\\r\\n', b'260\\t2\\t1\\r\\n', b'261\\t0\\t1\\r\\n', b'262\\t0\\t1\\r\\n', b'263\\t0\\t0\\r\\n', b'264\\t2\\t2\\r\\n', b'265\\t2\\t2\\r\\n', b'266\\t1\\t2\\r\\n', b'267\\t0\\t1\\r\\n', b'268\\t2\\t1\\r\\n', b'269\\t1\\t1\\r\\n', b'270\\t1\\t1\\r\\n', b'271\\t1\\t2\\r\\n', b'272\\t1\\t1\\r\\n', b'273\\t1\\t2\\r\\n', b'274\\t0\\t1\\r\\n', b'275\\t1\\t0\\r\\n', b'276\\t0\\t1\\r\\n', b'277\\t1\\t1\\r\\n', b'278\\t0\\t1\\r\\n', b'279\\t1\\t2\\r\\n', b'280\\t0\\t0\\r\\n', b'281\\t1\\t2\\r\\n', b'282\\t0\\t1\\r\\n', b'283\\t0\\t1\\r\\n', b'284\\t0\\t2\\r\\n', b'285\\t1\\t2\\r\\n', b'286\\t2\\t2\\r\\n', b'287\\t2\\t2\\r\\n', b'288\\t2\\t1\\r\\n', b'289\\t2\\t1\\r\\n', b'290\\t0\\t1\\r\\n', b'291\\t1\\t2\\r\\n', b'292\\t1\\t2\\r\\n', b'293\\t2\\t0\\r\\n', b'294\\t1\\t2\\r\\n', b'295\\t0\\t2\\r\\n', b'296\\t0\\t0\\r\\n', b'297\\t0\\t2\\r\\n', b'298\\t1\\t1\\r\\n', b'299\\t1\\t2\\r\\n', b'300\\t0\\t1\\r\\n', b'301\\t1\\t1\\r\\n', b'302\\t0\\t1\\r\\n', b'303\\t0\\t1\\r\\n', b'304\\t1\\t1\\r\\n', b'305\\t1\\t1\\r\\n', b'306\\t0\\t1\\r\\n', b'307\\t0\\t1\\r\\n', b'308\\t1\\t1\\r\\n', b'309\\t0\\t1\\r\\n', b'310\\t0\\t1\\r\\n', b'311\\t0\\t1\\r\\n', b'312\\t0\\t1\\r\\n', b'313\\t1\\t2\\r\\n', b'314\\t0\\t1\\r\\n', b'315\\t2\\t2\\r\\n', b'316\\t1\\t0\\r\\n', b'317\\t0\\t2\\r\\n', b'318\\t1\\t2\\r\\n', b'319\\t0\\t1\\r\\n', b'320\\t0\\t0\\r\\n', b'321\\t2\\t1\\r\\n', b'322\\t2\\t0\\r\\n', b'323\\t1\\t0\\r\\n', b'324\\t1\\t1\\r\\n', b'325\\t1\\t2\\r\\n', b'326\\t2\\t1\\r\\n', b'327\\t0\\t1\\r\\n', b'328\\t2\\t1\\r\\n', b'329\\t1\\t0\\r\\n', b'330\\t2\\t2\\r\\n', b'331\\t1\\t2\\r\\n', b'332\\t1\\t2\\r\\n', b'333\\t1\\t0\\r\\n', b'334\\t1\\t0\\r\\n', b'335\\t1\\t1\\r\\n', b'336\\t1\\t1\\r\\n', b'337\\t0\\t1\\r\\n', b'338\\t2\\t2\\r\\n', b'339\\t1\\t2\\r\\n', b'340\\t2\\t2\\r\\n', b'341\\t1\\t1\\r\\n', b'342\\t2\\t1\\r\\n', b'343\\t2\\t2\\r\\n', b'344\\t2\\t2\\r\\n', b'345\\t2\\t2\\r\\n', b'346\\t1\\t0\\r\\n', b'347\\t1\\t1\\r\\n', b'348\\t1\\t2\\r\\n', b'349\\t1\\t2\\r\\n', b'350\\t1\\t2\\r\\n', b'351\\t1\\t2\\r\\n', b'352\\t2\\t2\\r\\n', b'353\\t2\\t2\\r\\n', b'354\\t0\\t2\\r\\n', b'355\\t-1\\t1\\r\\n', b'356\\t2\\t0\\r\\n', b'357\\t1\\t1\\r\\n', b'358\\t2\\t1\\r\\n', b'359\\t0\\t2\\r\\n', b'360\\t1\\t1\\r\\n', b'361\\t2\\t2\\r\\n', b'362\\t2\\t1\\r\\n', b'363\\t1\\t2\\r\\n', b'364\\t1\\t2\\r\\n', b'365\\t2\\t2\\r\\n', b'366\\t1\\t1\\r\\n', b'367\\t2\\t1\\r\\n', b'368\\t1\\t1\\r\\n', b'369\\t0\\t1\\r\\n', b'370\\t1\\t1\\r\\n', b'371\\t1\\t2\\r\\n', b'372\\t1\\t1\\r\\n', b'373\\t1\\t0\\r\\n', b'374\\t0\\t1\\r\\n', b'375\\t1\\t1\\r\\n', b'376\\t1\\t2\\r\\n', b'377\\t2\\t1\\r\\n', b'378\\t1\\t1\\r\\n', b'379\\t0\\t1\\r\\n', b'380\\t2\\t1\\r\\n', b'381\\t2\\t1\\r\\n', b'382\\t1\\t1\\r\\n', b'383\\t2\\t2\\r\\n', b'384\\t2\\t0\\r\\n', b'385\\t2\\t0\\r\\n', b'386\\t1\\t0\\r\\n', b'387\\t1\\t1\\r\\n', b'388\\t1\\t2\\r\\n', b'389\\t2\\t2\\r\\n', b'390\\t2\\t0\\r\\n', b'391\\t2\\t1\\r\\n', b'392\\t1\\t2\\r\\n', b'393\\t1\\t0\\r\\n', b'394\\t2\\t1\\r\\n', b'395\\t1\\t1\\r\\n', b'396\\t2\\t1\\r\\n', b'397\\t2\\t2\\r\\n', b'398\\t1\\t1\\r\\n', b'399\\t2\\t1\\r\\n', b'400\\t0\\t2\\r\\n', b'401\\t2\\t1\\r\\n', b'402\\t1\\t1\\r\\n', b'403\\t1\\t1\\r\\n', b'404\\t2\\t1\\r\\n', b'405\\t1\\t0\\r\\n', b'406\\t2\\t1\\r\\n', b'407\\t1\\t1\\r\\n', b'408\\t1\\t0\\r\\n', b'409\\t1\\t1\\r\\n', b'410\\t1\\t0\\r\\n', b'411\\t1\\t2\\r\\n', b'412\\t2\\t2\\r\\n', b'413\\t1\\t0\\r\\n', b'414\\t2\\t0\\r\\n', b'415\\t1\\t2\\r\\n', b'416\\t1\\t0\\r\\n', b'417\\t0\\t1\\r\\n', b'418\\t1\\t1\\r\\n', b'419\\t2\\t0\\r\\n', b'420\\t2\\t1\\r\\n', b'421\\t2\\t1\\r\\n', b'422\\t0\\t1\\r\\n', b'423\\t1\\t1\\r\\n', b'424\\t2\\t0\\r\\n', b'425\\t2\\t1\\r\\n', b'426\\t2\\t1\\r\\n', b'427\\t0\\t0\\r\\n', b'428\\t1\\t1\\r\\n', b'429\\t1\\t0\\r\\n', b'430\\t1\\t0\\r\\n', b'431\\t2\\t1\\r\\n', b'432\\t2\\t0\\r\\n', b'433\\t1\\t1\\r\\n', b'434\\t1\\t1\\r\\n', b'435\\t2\\t0\\r\\n', b'436\\t2\\t0\\r\\n', b'437\\t1\\t1\\r\\n', b'438\\t2\\t0\\r\\n', b'439\\t2\\t2\\r\\n', b'440\\t2\\t-1\\r\\n', b'441\\t2\\t1\\r\\n', b'442\\t1\\t2\\r\\n', b'443\\t1\\t1\\r\\n', b'444\\t2\\t1\\r\\n', b'445\\t0\\t1\\r\\n', b'446\\t1\\t1\\r\\n', b'447\\t2\\t1\\r\\n', b'448\\t0\\t0\\r\\n', b'449\\t1\\t2\\r\\n', b'450\\t1\\t0\\r\\n', b'451\\t2\\t0\\r\\n', b'452\\t1\\t0\\r\\n', b'453\\t1\\t1\\r\\n', b'454\\t1\\t2\\r\\n', b'455\\t2\\t1\\r\\n', b'456\\t1\\t0\\r\\n', b'457\\t1\\t1\\r\\n', b'458\\t2\\t0\\r\\n', b'459\\t2\\t0\\r\\n', b'460\\t1\\t1\\r\\n', b'461\\t2\\t2\\r\\n', b'462\\t1\\t1\\r\\n', b'463\\t0\\t2\\r\\n', b'464\\t1\\t0\\r\\n', b'465\\t2\\t0\\r\\n', b'466\\t2\\t1\\r\\n', b'467\\t2\\t1\\r\\n', b'468\\t1\\t1\\r\\n', b'469\\t2\\t1\\r\\n', b'470\\t0\\t2\\r\\n', b'471\\t2\\t0\\r\\n', b'472\\t2\\t0\\r\\n', b'473\\t2\\t1\\r\\n', b'474\\t1\\t1\\r\\n', b'475\\t2\\t2\\r\\n', b'476\\t2\\t1\\r\\n', b'477\\t2\\t1\\r\\n', b'478\\t0\\t2\\r\\n', b'479\\t1\\t1\\r\\n', b'480\\t2\\t2\\r\\n', b'481\\t1\\t0\\r\\n', b'482\\t1\\t1\\r\\n', b'483\\t2\\t1\\r\\n', b'484\\t1\\t2\\r\\n', b'485\\t1\\t1\\r\\n', b'486\\t2\\t0\\r\\n', b'487\\t2\\t2\\r\\n', b'488\\t2\\t0\\r\\n', b'489\\t2\\t0\\r\\n', b'490\\t0\\t0\\r\\n', b'491\\t1\\t1\\r\\n', b'492\\t2\\t1\\r\\n', b'493\\t2\\t1\\r\\n', b'494\\t2\\t1\\r\\n', b'495\\t2\\t0\\r\\n', b'496\\t1\\t1\\r\\n', b'497\\t1\\t0\\r\\n', b'498\\t1\\t1\\r\\n', b'499\\t2\\t1\\r\\n', b'500\\t1\\t0\\r\\n', b'501\\t2\\t0\\r\\n', b'502\\t2\\t2\\r\\n', b'503\\t1\\t2\\r\\n', b'504\\t2\\t0\\r\\n', b'505\\t0\\t0\\r\\n', b'506\\t2\\t0\\r\\n', b'507\\t1\\t0\\r\\n', b'508\\t2\\t1\\r\\n', b'509\\t0\\t2\\r\\n', b'510\\t2\\t1\\r\\n', b'511\\t1\\t2\\r\\n', b'512\\t1\\t1\\r\\n', b'513\\t1\\t2\\r\\n', b'514\\t2\\t2\\r\\n', b'515\\t1\\t2\\r\\n', b'516\\t2\\t1\\r\\n', b'517\\t2\\t0\\r\\n', b'518\\t2\\t0\\r\\n', b'519\\t0\\t1\\r\\n', b'520\\t2\\t2\\r\\n', b'521\\t1\\t0\\r\\n', b'522\\t1\\t1\\r\\n', b'523\\t1\\t2\\r\\n', b'524\\t0\\t1\\r\\n', b'525\\t2\\t1\\r\\n', b'526\\t1\\t0\\r\\n', b'527\\t1\\t1\\r\\n', b'528\\t0\\t0\\r\\n', b'529\\t1\\t2\\r\\n', b'530\\t1\\t0\\r\\n', b'531\\t1\\t1\\r\\n', b'532\\t1\\t0\\r\\n', b'533\\t1\\t0\\r\\n', b'534\\t2\\t1\\r\\n', b'535\\t1\\t1\\r\\n', b'536\\t1\\t0\\r\\n', b'537\\t1\\t0\\r\\n', b'538\\t1\\t2\\r\\n', b'539\\t0\\t2\\r\\n', b'540\\t1\\t0\\r\\n', b'541\\t2\\t2\\r\\n', b'542\\t1\\t0\\r\\n', b'543\\t1\\t0\\r\\n', b'544\\t1\\t1\\r\\n', b'545\\t2\\t1\\r\\n', b'546\\t1\\t1\\r\\n', b'547\\t2\\t1\\r\\n', b'548\\t1\\t1\\r\\n', b'549\\t2\\t1\\r\\n', b'550\\t1\\t1\\r\\n', b'551\\t1\\t0\\r\\n', b'552\\t2\\t0\\r\\n', b'553\\t2\\t1\\r\\n', b'554\\t2\\t1\\r\\n', b'555\\t1\\t1\\r\\n', b'556\\t2\\t2\\r\\n', b'557\\t0\\t1\\r\\n', b'558\\t1\\t2\\r\\n', b'559\\t0\\t1\\r\\n', b'560\\t1\\t2\\r\\n', b'561\\t2\\t1\\r\\n', b'562\\t1\\t2\\r\\n', b'563\\t0\\t1\\r\\n', b'564\\t2\\t0\\r\\n', b'565\\t2\\t1\\r\\n', b'566\\t1\\t1\\r\\n', b'567\\t2\\t1\\r\\n', b'568\\t1\\t0\\r\\n', b'569\\t0\\t0\\r\\n', b'570\\t1\\t1\\r\\n', b'571\\t2\\t2\\r\\n', b'572\\t1\\t1\\r\\n', b'573\\t2\\t0\\r\\n', b'574\\t0\\t0\\r\\n', b'575\\t0\\t1\\r\\n', b'576\\t2\\t0\\r\\n', b'577\\t2\\t0\\r\\n', b'578\\t2\\t0\\r\\n', b'579\\t1\\t1\\r\\n', b'580\\t1\\t0\\r\\n', b'581\\t0\\t2\\r\\n', b'582\\t1\\t1\\r\\n', b'583\\t2\\t0\\r\\n', b'584\\t1\\t2\\r\\n', b'585\\t1\\t1\\r\\n', b'586\\t0\\t2\\r\\n', b'587\\t0\\t0\\r\\n', b'588\\t1\\t1\\r\\n', b'589\\t1\\t2\\r\\n', b'590\\t1\\t1\\r\\n', b'591\\t2\\t2\\r\\n', b'592\\t0\\t1\\r\\n', b'593\\t0\\t1\\r\\n', b'594\\t2\\t2\\r\\n', b'595\\t0\\t1\\r\\n', b'596\\t2\\t0\\r\\n', b'597\\t2\\t2\\r\\n', b'598\\t2\\t2\\r\\n', b'599\\t1\\t2\\r\\n', b'600\\t2\\t1\\r\\n', b'601\\t0\\t2\\r\\n', b'602\\t2\\t1\\r\\n', b'603\\t0\\t0\\r\\n', b'604\\t2\\t1\\r\\n', b'605\\t0\\t1\\r\\n', b'606\\t2\\t0\\r\\n', b'607\\t1\\t0\\r\\n', b'608\\t1\\t2\\r\\n', b'609\\t2\\t1\\r\\n', b'610\\t1\\t1\\r\\n', b'611\\t1\\t0\\r\\n', b'612\\t2\\t2\\r\\n', b'613\\t1\\t1\\r\\n', b'614\\t2\\t1\\r\\n', b'615\\t1\\t2\\r\\n', b'616\\t1\\t0\\r\\n', b'617\\t1\\t0\\r\\n', b'618\\t2\\t2\\r\\n', b'619\\t1\\t1\\r\\n', b'620\\t1\\t1\\r\\n', b'621\\t1\\t1\\r\\n', b'622\\t1\\t1\\r\\n', b'623\\t2\\t0\\r\\n', b'624\\t2\\t2\\r\\n', b'625\\t2\\t2\\r\\n', b'626\\t0\\t2\\r\\n', b'627\\t1\\t2\\r\\n', b'628\\t2\\t2\\r\\n', b'629\\t1\\t2\\r\\n', b'630\\t1\\t2\\r\\n', b'631\\t1\\t2\\r\\n', b'632\\t2\\t2\\r\\n', b'633\\t1\\t1\\r\\n', b'634\\t1\\t1\\r\\n', b'635\\t0\\t2\\r\\n', b'636\\t1\\t2\\r\\n', b'637\\t2\\t1\\r\\n', b'638\\t2\\t2\\r\\n', b'639\\t2\\t0\\r\\n', b'640\\t1\\t2\\r\\n', b'641\\t0\\t0\\r\\n', b'642\\t2\\t1\\r\\n', b'643\\t0\\t0\\r\\n', b'644\\t1\\t0\\r\\n', b'645\\t2\\t2\\r\\n', b'646\\t1\\t1\\r\\n', b'647\\t1\\t1\\r\\n', b'648\\t2\\t2\\r\\n', b'649\\t1\\t2\\r\\n', b'650\\t2\\t2\\r\\n', b'651\\t1\\t0\\r\\n', b'652\\t2\\t-1\\r\\n', b'653\\t1\\t2\\r\\n', b'654\\t0\\t2\\r\\n', b'655\\t0\\t1\\r\\n', b'656\\t1\\t2\\r\\n', b'657\\t2\\t2\\r\\n', b'658\\t1\\t0\\r\\n', b'659\\t2\\t1\\r\\n', b'660\\t1\\t1\\r\\n', b'661\\t1\\t1\\r\\n', b'662\\t0\\t1\\r\\n', b'663\\t0\\t1\\r\\n', b'664\\t2\\t1\\r\\n', b'665\\t0\\t0\\r\\n', b'666\\t2\\t0\\r\\n', b'667\\t2\\t2\\r\\n', b'668\\t2\\t1\\r\\n', b'669\\t1\\t2\\r\\n', b'670\\t1\\t1\\r\\n', b'671\\t2\\t2\\r\\n', b'672\\t2\\t2\\r\\n', b'673\\t0\\t0\\r\\n', b'674\\t1\\t2\\r\\n', b'675\\t2\\t2\\r\\n', b'676\\t1\\t0\\r\\n', b'677\\t1\\t2\\r\\n', b'678\\t0\\t2\\r\\n', b'679\\t1\\t0\\r\\n', b'680\\t1\\t1\\r\\n', b'681\\t0\\t0\\r\\n', b'682\\t1\\t1\\r\\n', b'683\\t0\\t1\\r\\n', b'684\\t1\\t2\\r\\n', b'685\\t1\\t0\\r\\n', b'686\\t2\\t0\\r\\n', b'687\\t0\\t0\\r\\n', b'688\\t1\\t1\\r\\n', b'689\\t1\\t0\\r\\n', b'690\\t1\\t0\\r\\n', b'691\\t1\\t1\\r\\n', b'692\\t1\\t1\\r\\n', b'693\\t0\\t1\\r\\n', b'694\\t2\\t1\\r\\n', b'695\\t1\\t0\\r\\n', b'696\\t1\\t1\\r\\n', b'697\\t2\\t1\\r\\n', b'698\\t1\\t1\\r\\n', b'699\\t2\\t1\\r\\n', b'700\\t0\\t1\\r\\n', b'701\\t0\\t1\\r\\n', b'702\\t2\\t1\\r\\n', b'703\\t1\\t1\\r\\n', b'704\\t2\\t2\\r\\n', b'705\\t1\\t0\\r\\n', b'706\\t0\\t0\\r\\n', b'707\\t1\\t1\\r\\n', b'708\\t1\\t2\\r\\n', b'709\\t0\\t0\\r\\n', b'710\\t1\\t1\\r\\n', b'711\\t1\\t0\\r\\n', b'712\\t1\\t1\\r\\n', b'713\\t1\\t1\\r\\n', b'714\\t0\\t0\\r\\n', b'715\\t2\\t2\\r\\n', b'716\\t2\\t1\\r\\n', b'717\\t1\\t0\\r\\n', b'718\\t1\\t2\\r\\n', b'719\\t2\\t0\\r\\n', b'720\\t1\\t2\\r\\n', b'721\\t1\\t1\\r\\n', b'722\\t1\\t0\\r\\n', b'723\\t1\\t1\\r\\n', b'724\\t2\\t0\\r\\n', b'725\\t1\\t1\\r\\n', b'726\\t2\\t1\\r\\n', b'727\\t1\\t0\\r\\n', b'728\\t2\\t2\\r\\n', b'729\\t1\\t0\\r\\n', b'730\\t1\\t2\\r\\n', b'731\\t1\\t2\\r\\n', b'732\\t2\\t0\\r\\n', b'733\\t1\\t2\\r\\n', b'734\\t1\\t2\\r\\n', b'735\\t1\\t1\\r\\n', b'736\\t1\\t1\\r\\n', b'737\\t1\\t2\\r\\n', b'738\\t0\\t1\\r\\n', b'739\\t1\\t0\\r\\n', b'740\\t1\\t1\\r\\n', b'741\\t2\\t2\\r\\n', b'742\\t0\\t0\\r\\n', b'743\\t0\\t2\\r\\n', b'744\\t1\\t0\\r\\n', b'745\\t2\\t1\\r\\n', b'746\\t2\\t1\\r\\n', b'747\\t1\\t1\\r\\n', b'748\\t1\\t0\\r\\n', b'749\\t1\\t1\\r\\n', b'750\\t2\\t0\\r\\n', b'751\\t2\\t0\\r\\n', b'752\\t0\\t0\\r\\n', b'753\\t0\\t0\\r\\n', b'754\\t1\\t2\\r\\n', b'755\\t0\\t1\\r\\n', b'756\\t2\\t1\\r\\n', b'757\\t1\\t0\\r\\n', b'758\\t0\\t0\\r\\n', b'759\\t1\\t1\\r\\n', b'760\\t1\\t0\\r\\n', b'761\\t2\\t1\\r\\n', b'762\\t2\\t2\\r\\n', b'763\\t0\\t1\\r\\n', b'764\\t1\\t1\\r\\n', b'765\\t1\\t0\\r\\n', b'766\\t2\\t2\\r\\n', b'767\\t1\\t1\\r\\n', b'768\\t0\\t2\\r\\n', b'769\\t1\\t0\\r\\n', b'770\\t1\\t1\\r\\n', b'771\\t2\\t2\\r\\n', b'772\\t1\\t2\\r\\n', b'773\\t1\\t1\\r\\n', b'774\\t1\\t0\\r\\n', b'775\\t1\\t0\\r\\n', b'776\\t2\\t1\\r\\n', b'777\\t2\\t1\\r\\n', b'778\\t1\\t0\\r\\n', b'779\\t0\\t1\\r\\n', b'780\\t1\\t1\\r\\n', b'781\\t0\\t0\\r\\n', b'782\\t2\\t2\\r\\n', b'783\\t2\\t2\\r\\n', b'784\\t0\\t1\\r\\n', b'785\\t1\\t2\\r\\n', b'786\\t1\\t2\\r\\n', b'787\\t2\\t1\\r\\n', b'788\\t2\\t0\\r\\n', b'789\\t2\\t2\\r\\n', b'790\\t2\\t2\\r\\n', b'791\\t0\\t1\\r\\n', b'792\\t2\\t2\\r\\n', b'793\\t1\\t1\\r\\n', b'794\\t1\\t0\\r\\n', b'795\\t1\\t2\\r\\n', b'796\\t0\\t0\\r\\n', b'797\\t0\\t2\\r\\n', b'798\\t2\\t0\\r\\n', b'799\\t0\\t1\\r\\n', b'800\\t2\\t2\\r\\n', b'801\\t2\\t1\\r\\n', b'802\\t1\\t1\\r\\n', b'803\\t0\\t0\\r\\n', b'804\\t1\\t0\\r\\n', b'805\\t0\\t1\\r\\n', b'806\\t0\\t0\\r\\n', b'807\\t2\\t2\\r\\n', b'808\\t1\\t1\\r\\n', b'809\\t1\\t0\\r\\n', b'810\\t2\\t1\\r\\n', b'811\\t2\\t2\\r\\n', b'812\\t0\\t1\\r\\n', b'813\\t2\\t1\\r\\n', b'814\\t1\\t2\\r\\n', b'815\\t0\\t2\\r\\n', b'816\\t0\\t0\\r\\n', b'817\\t0\\t0\\r\\n', b'818\\t0\\t0\\r\\n', b'819\\t1\\t2\\r\\n', b'820\\t0\\t2\\r\\n', b'821\\t1\\t0\\r\\n', b'822\\t2\\t2\\r\\n', b'823\\t1\\t2\\r\\n', b'824\\t1\\t2\\r\\n', b'825\\t1\\t1\\r\\n', b'826\\t1\\t1\\r\\n', b'827\\t1\\t1\\r\\n', b'828\\t0\\t1\\r\\n', b'829\\t0\\t2\\r\\n', b'830\\t1\\t2\\r\\n', b'831\\t0\\t0\\r\\n', b'832\\t1\\t0\\r\\n', b'833\\t0\\t1\\r\\n', b'834\\t2\\t1\\r\\n', b'835\\t2\\t2\\r\\n', b'836\\t1\\t2\\r\\n', b'837\\t1\\t1\\r\\n', b'838\\t1\\t1\\r\\n', b'839\\t2\\t2\\r\\n', b'840\\t1\\t0\\r\\n', b'841\\t1\\t1\\r\\n', b'842\\t1\\t0\\r\\n', b'843\\t2\\t0\\r\\n', b'844\\t2\\t0\\r\\n', b'845\\t1\\t2\\r\\n', b'846\\t2\\t1\\r\\n', b'847\\t2\\t2\\r\\n', b'848\\t0\\t0\\r\\n', b'849\\t1\\t1\\r\\n', b'850\\t1\\t1\\r\\n', b'851\\t0\\t1\\r\\n', b'852\\t1\\t0\\r\\n', b'853\\t2\\t0\\r\\n', b'854\\t0\\t0\\r\\n', b'855\\t2\\t0\\r\\n', b'856\\t0\\t0\\r\\n', b'857\\t2\\t1\\r\\n', b'858\\t2\\t0\\r\\n', b'859\\t0\\t1\\r\\n', b'860\\t1\\t1\\r\\n', b'861\\t0\\t1\\r\\n', b'862\\t0\\t2\\r\\n', b'863\\t2\\t0\\r\\n', b'864\\t0\\t0\\r\\n', b'865\\t1\\t0\\r\\n', b'866\\t0\\t2\\r\\n', b'867\\t1\\t1\\r\\n', b'868\\t2\\t1\\r\\n', b'869\\t2\\t1\\r\\n', b'870\\t1\\t1\\r\\n', b'871\\t0\\t1\\r\\n', b'872\\t0\\t1\\r\\n', b'873\\t0\\t2\\r\\n', b'874\\t2\\t1\\r\\n', b'875\\t2\\t0\\r\\n', b'876\\t0\\t1\\r\\n', b'877\\t0\\t0\\r\\n', b'878\\t2\\t1\\r\\n', b'879\\t1\\t1\\r\\n', b'880\\t0\\t0\\r\\n', b'881\\t2\\t1\\r\\n', b'882\\t1\\t1\\r\\n', b'883\\t2\\t1\\r\\n', b'884\\t1\\t1\\r\\n', b'885\\t1\\t2\\r\\n', b'886\\t1\\t1\\r\\n', b'887\\t1\\t0\\r\\n', b'888\\t1\\t0\\r\\n', b'889\\t1\\t2\\r\\n', b'890\\t1\\t1\\r\\n', b'891\\t1\\t1\\r\\n', b'892\\t2\\t1\\r\\n', b'893\\t2\\t0\\r\\n', b'894\\t2\\t1\\r\\n', b'895\\t0\\t0\\r\\n', b'896\\t0\\t2\\r\\n', b'897\\t2\\t1\\r\\n', b'898\\t0\\t0\\r\\n', b'899\\t0\\t0\\r\\n', b'900\\t1\\t1\\r\\n', b'901\\t1\\t2\\r\\n', b'902\\t0\\t2\\r\\n', b'903\\t1\\t0\\r\\n', b'904\\t2\\t2\\r\\n', b'905\\t1\\t2\\r\\n', b'906\\t1\\t2\\r\\n', b'907\\t0\\t2\\r\\n', b'908\\t0\\t1\\r\\n', b'909\\t1\\t1\\r\\n', b'910\\t1\\t1\\r\\n', b'911\\t1\\t1\\r\\n', b'912\\t2\\t0\\r\\n', b'913\\t1\\t0\\r\\n', b'914\\t1\\t1\\r\\n', b'915\\t0\\t2\\r\\n', b'916\\t0\\t1\\r\\n', b'917\\t1\\t2\\r\\n', b'918\\t0\\t0\\r\\n', b'919\\t0\\t1\\r\\n', b'920\\t0\\t1\\r\\n', b'921\\t0\\t0\\r\\n', b'922\\t2\\t0\\r\\n', b'923\\t2\\t2\\r\\n', b'924\\t0\\t0\\r\\n', b'925\\t1\\t0\\r\\n', b'926\\t2\\t0\\r\\n', b'927\\t1\\t1\\r\\n', b'928\\t1\\t0\\r\\n', b'929\\t2\\t2\\r\\n']\n"
     ]
    }
   ],
   "source": [
    "import gzip\n",
    "with gzip.open(r\"C:\\Data\\HUJI\\vcf\\hgdp\\classes\\windows\\maf_0.49\\window_0.012.tsv.gz\", 'rb') as f:\n",
    "    print(f.readline().decode())\n",
    "    print(len(f.readline().decode().split('\\t')))\n",
    "    #print(len(f.readlines()))\n",
    "    print(f.readlines())"
   ]
  },
  {
   "cell_type": "code",
   "execution_count": null,
   "metadata": {},
   "outputs": [],
   "source": [
    "df1 = pd.read_csv(r\"C:\\Data\\HUJI\\vcf\\hgdp\\classes\\windows\\maf_0.49\\window_0.012.tsv.gz\", compression='gzip', sep='\\t', names=names) \n"
   ]
  }
 ],
 "metadata": {
  "kernelspec": {
   "display_name": "Python 3",
   "language": "python",
   "name": "python3"
  },
  "language_info": {
   "codemirror_mode": {
    "name": "ipython",
    "version": 3
   },
   "file_extension": ".py",
   "mimetype": "text/x-python",
   "name": "python",
   "nbconvert_exporter": "python",
   "pygments_lexer": "ipython3",
   "version": "3.7.4"
  },
  "toc": {
   "base_numbering": 1,
   "nav_menu": {},
   "number_sections": true,
   "sideBar": true,
   "skip_h1_title": true,
   "title_cell": "Table of Contents",
   "title_sidebar": "Contents",
   "toc_cell": true,
   "toc_position": {},
   "toc_section_display": true,
   "toc_window_display": false
  },
  "varInspector": {
   "cols": {
    "lenName": 16,
    "lenType": 16,
    "lenVar": 40
   },
   "kernels_config": {
    "python": {
     "delete_cmd_postfix": "",
     "delete_cmd_prefix": "del ",
     "library": "var_list.py",
     "varRefreshCmd": "print(var_dic_list())"
    },
    "r": {
     "delete_cmd_postfix": ") ",
     "delete_cmd_prefix": "rm(",
     "library": "var_list.r",
     "varRefreshCmd": "cat(var_dic_list()) "
    }
   },
   "types_to_exclude": [
    "module",
    "function",
    "builtin_function_or_method",
    "instance",
    "_Feature"
   ],
   "window_display": true
  }
 },
 "nbformat": 4,
 "nbformat_minor": 4
}

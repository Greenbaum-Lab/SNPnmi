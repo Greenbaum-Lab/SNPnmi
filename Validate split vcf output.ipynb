{
 "cells": [
  {
   "cell_type": "markdown",
   "metadata": {
    "toc": true
   },
   "source": [
    "<h1>Table of Contents<span class=\"tocSkip\"></span></h1>\n",
    "<div class=\"toc\"><ul class=\"toc-item\"></ul></div>"
   ]
  },
  {
   "cell_type": "code",
   "execution_count": 1,
   "metadata": {
    "ExecuteTime": {
     "end_time": "2021-01-20T07:44:02.809399Z",
     "start_time": "2021-01-20T07:44:01.717582Z"
    }
   },
   "outputs": [],
   "source": [
    "import pandas as pd"
   ]
  },
  {
   "cell_type": "code",
   "execution_count": 4,
   "metadata": {
    "ExecuteTime": {
     "end_time": "2021-01-20T07:44:31.444354Z",
     "start_time": "2021-01-20T07:44:31.303405Z"
    }
   },
   "outputs": [
    {
     "data": {
      "text/html": [
       "<div>\n",
       "<style scoped>\n",
       "    .dataframe tbody tr th:only-of-type {\n",
       "        vertical-align: middle;\n",
       "    }\n",
       "\n",
       "    .dataframe tbody tr th {\n",
       "        vertical-align: top;\n",
       "    }\n",
       "\n",
       "    .dataframe thead th {\n",
       "        text-align: right;\n",
       "    }\n",
       "</style>\n",
       "<table border=\"1\" class=\"dataframe\">\n",
       "  <thead>\n",
       "    <tr style=\"text-align: right;\">\n",
       "      <th></th>\n",
       "      <th>chr_name_name</th>\n",
       "      <th>mac</th>\n",
       "      <th>max_mac</th>\n",
       "      <th>maf</th>\n",
       "      <th>max_maf</th>\n",
       "      <th>num_of_indv_after_filter</th>\n",
       "      <th>indv_num_of_lines</th>\n",
       "      <th>012_num_of_lines</th>\n",
       "      <th>num_of_possible_indv</th>\n",
       "      <th>num_of_sites_after_filter</th>\n",
       "      <th>pos_num_of_lines</th>\n",
       "      <th>012_min_num_of_sites</th>\n",
       "      <th>012_max_num_of_sites</th>\n",
       "      <th>num_of_possible_sites</th>\n",
       "      <th>run_time_in_seconds</th>\n",
       "      <th>input_file</th>\n",
       "      <th>out_path</th>\n",
       "    </tr>\n",
       "  </thead>\n",
       "  <tbody>\n",
       "    <tr>\n",
       "      <th>0</th>\n",
       "      <td>chr22</td>\n",
       "      <td>2</td>\n",
       "      <td>2</td>\n",
       "      <td>-</td>\n",
       "      <td>-</td>\n",
       "      <td>929</td>\n",
       "      <td>929</td>\n",
       "      <td>929</td>\n",
       "      <td>929</td>\n",
       "      <td>102636</td>\n",
       "      <td>102636</td>\n",
       "      <td>102636</td>\n",
       "      <td>102636</td>\n",
       "      <td>1185008</td>\n",
       "      <td>1111</td>\n",
       "      <td>/vol/sci/bio/data/gil.greenbaum/amir.rubin/vcf...</td>\n",
       "      <td>/vol/sci/bio/data/gil.greenbaum/amir.rubin/vcf...</td>\n",
       "    </tr>\n",
       "    <tr>\n",
       "      <th>1</th>\n",
       "      <td>chr22</td>\n",
       "      <td>3</td>\n",
       "      <td>3</td>\n",
       "      <td>-</td>\n",
       "      <td>-</td>\n",
       "      <td>929</td>\n",
       "      <td>929</td>\n",
       "      <td>929</td>\n",
       "      <td>929</td>\n",
       "      <td>53465</td>\n",
       "      <td>53465</td>\n",
       "      <td>53465</td>\n",
       "      <td>53465</td>\n",
       "      <td>1185008</td>\n",
       "      <td>538</td>\n",
       "      <td>/vol/sci/bio/data/gil.greenbaum/amir.rubin/vcf...</td>\n",
       "      <td>/vol/sci/bio/data/gil.greenbaum/amir.rubin/vcf...</td>\n",
       "    </tr>\n",
       "    <tr>\n",
       "      <th>2</th>\n",
       "      <td>chr22</td>\n",
       "      <td>4</td>\n",
       "      <td>4</td>\n",
       "      <td>-</td>\n",
       "      <td>-</td>\n",
       "      <td>929</td>\n",
       "      <td>929</td>\n",
       "      <td>929</td>\n",
       "      <td>929</td>\n",
       "      <td>33188</td>\n",
       "      <td>33188</td>\n",
       "      <td>33188</td>\n",
       "      <td>33188</td>\n",
       "      <td>1185008</td>\n",
       "      <td>483</td>\n",
       "      <td>/vol/sci/bio/data/gil.greenbaum/amir.rubin/vcf...</td>\n",
       "      <td>/vol/sci/bio/data/gil.greenbaum/amir.rubin/vcf...</td>\n",
       "    </tr>\n",
       "    <tr>\n",
       "      <th>3</th>\n",
       "      <td>chr22</td>\n",
       "      <td>5</td>\n",
       "      <td>5</td>\n",
       "      <td>-</td>\n",
       "      <td>-</td>\n",
       "      <td>929</td>\n",
       "      <td>929</td>\n",
       "      <td>929</td>\n",
       "      <td>929</td>\n",
       "      <td>23881</td>\n",
       "      <td>23881</td>\n",
       "      <td>23881</td>\n",
       "      <td>23881</td>\n",
       "      <td>1185008</td>\n",
       "      <td>874</td>\n",
       "      <td>/vol/sci/bio/data/gil.greenbaum/amir.rubin/vcf...</td>\n",
       "      <td>/vol/sci/bio/data/gil.greenbaum/amir.rubin/vcf...</td>\n",
       "    </tr>\n",
       "    <tr>\n",
       "      <th>4</th>\n",
       "      <td>chr22</td>\n",
       "      <td>6</td>\n",
       "      <td>6</td>\n",
       "      <td>-</td>\n",
       "      <td>-</td>\n",
       "      <td>929</td>\n",
       "      <td>929</td>\n",
       "      <td>929</td>\n",
       "      <td>929</td>\n",
       "      <td>18123</td>\n",
       "      <td>18123</td>\n",
       "      <td>18123</td>\n",
       "      <td>18123</td>\n",
       "      <td>1185008</td>\n",
       "      <td>534</td>\n",
       "      <td>/vol/sci/bio/data/gil.greenbaum/amir.rubin/vcf...</td>\n",
       "      <td>/vol/sci/bio/data/gil.greenbaum/amir.rubin/vcf...</td>\n",
       "    </tr>\n",
       "    <tr>\n",
       "      <th>...</th>\n",
       "      <td>...</td>\n",
       "      <td>...</td>\n",
       "      <td>...</td>\n",
       "      <td>...</td>\n",
       "      <td>...</td>\n",
       "      <td>...</td>\n",
       "      <td>...</td>\n",
       "      <td>...</td>\n",
       "      <td>...</td>\n",
       "      <td>...</td>\n",
       "      <td>...</td>\n",
       "      <td>...</td>\n",
       "      <td>...</td>\n",
       "      <td>...</td>\n",
       "      <td>...</td>\n",
       "      <td>...</td>\n",
       "      <td>...</td>\n",
       "    </tr>\n",
       "    <tr>\n",
       "      <th>1425</th>\n",
       "      <td>chr21</td>\n",
       "      <td>-</td>\n",
       "      <td>-</td>\n",
       "      <td>0.44</td>\n",
       "      <td>0.45</td>\n",
       "      <td>929</td>\n",
       "      <td>929</td>\n",
       "      <td>929</td>\n",
       "      <td>929</td>\n",
       "      <td>1333</td>\n",
       "      <td>1333</td>\n",
       "      <td>1333</td>\n",
       "      <td>1333</td>\n",
       "      <td>1086522</td>\n",
       "      <td>240</td>\n",
       "      <td>/vol/sci/bio/data/gil.greenbaum/amir.rubin/vcf...</td>\n",
       "      <td>/vol/sci/bio/data/gil.greenbaum/amir.rubin/vcf...</td>\n",
       "    </tr>\n",
       "    <tr>\n",
       "      <th>1426</th>\n",
       "      <td>chr21</td>\n",
       "      <td>-</td>\n",
       "      <td>-</td>\n",
       "      <td>0.45</td>\n",
       "      <td>0.46</td>\n",
       "      <td>929</td>\n",
       "      <td>929</td>\n",
       "      <td>929</td>\n",
       "      <td>929</td>\n",
       "      <td>1546</td>\n",
       "      <td>1546</td>\n",
       "      <td>1546</td>\n",
       "      <td>1546</td>\n",
       "      <td>1086522</td>\n",
       "      <td>241</td>\n",
       "      <td>/vol/sci/bio/data/gil.greenbaum/amir.rubin/vcf...</td>\n",
       "      <td>/vol/sci/bio/data/gil.greenbaum/amir.rubin/vcf...</td>\n",
       "    </tr>\n",
       "    <tr>\n",
       "      <th>1427</th>\n",
       "      <td>chr21</td>\n",
       "      <td>-</td>\n",
       "      <td>-</td>\n",
       "      <td>0.46</td>\n",
       "      <td>0.47</td>\n",
       "      <td>929</td>\n",
       "      <td>929</td>\n",
       "      <td>929</td>\n",
       "      <td>929</td>\n",
       "      <td>1555</td>\n",
       "      <td>1555</td>\n",
       "      <td>1555</td>\n",
       "      <td>1555</td>\n",
       "      <td>1086522</td>\n",
       "      <td>240</td>\n",
       "      <td>/vol/sci/bio/data/gil.greenbaum/amir.rubin/vcf...</td>\n",
       "      <td>/vol/sci/bio/data/gil.greenbaum/amir.rubin/vcf...</td>\n",
       "    </tr>\n",
       "    <tr>\n",
       "      <th>1428</th>\n",
       "      <td>chr21</td>\n",
       "      <td>-</td>\n",
       "      <td>-</td>\n",
       "      <td>0.47</td>\n",
       "      <td>0.48</td>\n",
       "      <td>929</td>\n",
       "      <td>929</td>\n",
       "      <td>929</td>\n",
       "      <td>929</td>\n",
       "      <td>1502</td>\n",
       "      <td>1502</td>\n",
       "      <td>1502</td>\n",
       "      <td>1502</td>\n",
       "      <td>1086522</td>\n",
       "      <td>240</td>\n",
       "      <td>/vol/sci/bio/data/gil.greenbaum/amir.rubin/vcf...</td>\n",
       "      <td>/vol/sci/bio/data/gil.greenbaum/amir.rubin/vcf...</td>\n",
       "    </tr>\n",
       "    <tr>\n",
       "      <th>1429</th>\n",
       "      <td>chr21</td>\n",
       "      <td>-</td>\n",
       "      <td>-</td>\n",
       "      <td>0.48</td>\n",
       "      <td>0.49</td>\n",
       "      <td>929</td>\n",
       "      <td>929</td>\n",
       "      <td>929</td>\n",
       "      <td>929</td>\n",
       "      <td>1349</td>\n",
       "      <td>1349</td>\n",
       "      <td>1349</td>\n",
       "      <td>1349</td>\n",
       "      <td>1086522</td>\n",
       "      <td>240</td>\n",
       "      <td>/vol/sci/bio/data/gil.greenbaum/amir.rubin/vcf...</td>\n",
       "      <td>/vol/sci/bio/data/gil.greenbaum/amir.rubin/vcf...</td>\n",
       "    </tr>\n",
       "  </tbody>\n",
       "</table>\n",
       "<p>1430 rows × 17 columns</p>\n",
       "</div>"
      ],
      "text/plain": [
       "     chr_name_name mac max_mac   maf max_maf  num_of_indv_after_filter  \\\n",
       "0            chr22   2       2     -       -                       929   \n",
       "1            chr22   3       3     -       -                       929   \n",
       "2            chr22   4       4     -       -                       929   \n",
       "3            chr22   5       5     -       -                       929   \n",
       "4            chr22   6       6     -       -                       929   \n",
       "...            ...  ..     ...   ...     ...                       ...   \n",
       "1425         chr21   -       -  0.44    0.45                       929   \n",
       "1426         chr21   -       -  0.45    0.46                       929   \n",
       "1427         chr21   -       -  0.46    0.47                       929   \n",
       "1428         chr21   -       -  0.47    0.48                       929   \n",
       "1429         chr21   -       -  0.48    0.49                       929   \n",
       "\n",
       "      indv_num_of_lines  012_num_of_lines  num_of_possible_indv  \\\n",
       "0                   929               929                   929   \n",
       "1                   929               929                   929   \n",
       "2                   929               929                   929   \n",
       "3                   929               929                   929   \n",
       "4                   929               929                   929   \n",
       "...                 ...               ...                   ...   \n",
       "1425                929               929                   929   \n",
       "1426                929               929                   929   \n",
       "1427                929               929                   929   \n",
       "1428                929               929                   929   \n",
       "1429                929               929                   929   \n",
       "\n",
       "      num_of_sites_after_filter  pos_num_of_lines  012_min_num_of_sites  \\\n",
       "0                        102636            102636                102636   \n",
       "1                         53465             53465                 53465   \n",
       "2                         33188             33188                 33188   \n",
       "3                         23881             23881                 23881   \n",
       "4                         18123             18123                 18123   \n",
       "...                         ...               ...                   ...   \n",
       "1425                       1333              1333                  1333   \n",
       "1426                       1546              1546                  1546   \n",
       "1427                       1555              1555                  1555   \n",
       "1428                       1502              1502                  1502   \n",
       "1429                       1349              1349                  1349   \n",
       "\n",
       "      012_max_num_of_sites  num_of_possible_sites  run_time_in_seconds  \\\n",
       "0                   102636                1185008                 1111   \n",
       "1                    53465                1185008                  538   \n",
       "2                    33188                1185008                  483   \n",
       "3                    23881                1185008                  874   \n",
       "4                    18123                1185008                  534   \n",
       "...                    ...                    ...                  ...   \n",
       "1425                  1333                1086522                  240   \n",
       "1426                  1546                1086522                  241   \n",
       "1427                  1555                1086522                  240   \n",
       "1428                  1502                1086522                  240   \n",
       "1429                  1349                1086522                  240   \n",
       "\n",
       "                                             input_file  \\\n",
       "0     /vol/sci/bio/data/gil.greenbaum/amir.rubin/vcf...   \n",
       "1     /vol/sci/bio/data/gil.greenbaum/amir.rubin/vcf...   \n",
       "2     /vol/sci/bio/data/gil.greenbaum/amir.rubin/vcf...   \n",
       "3     /vol/sci/bio/data/gil.greenbaum/amir.rubin/vcf...   \n",
       "4     /vol/sci/bio/data/gil.greenbaum/amir.rubin/vcf...   \n",
       "...                                                 ...   \n",
       "1425  /vol/sci/bio/data/gil.greenbaum/amir.rubin/vcf...   \n",
       "1426  /vol/sci/bio/data/gil.greenbaum/amir.rubin/vcf...   \n",
       "1427  /vol/sci/bio/data/gil.greenbaum/amir.rubin/vcf...   \n",
       "1428  /vol/sci/bio/data/gil.greenbaum/amir.rubin/vcf...   \n",
       "1429  /vol/sci/bio/data/gil.greenbaum/amir.rubin/vcf...   \n",
       "\n",
       "                                               out_path  \n",
       "0     /vol/sci/bio/data/gil.greenbaum/amir.rubin/vcf...  \n",
       "1     /vol/sci/bio/data/gil.greenbaum/amir.rubin/vcf...  \n",
       "2     /vol/sci/bio/data/gil.greenbaum/amir.rubin/vcf...  \n",
       "3     /vol/sci/bio/data/gil.greenbaum/amir.rubin/vcf...  \n",
       "4     /vol/sci/bio/data/gil.greenbaum/amir.rubin/vcf...  \n",
       "...                                                 ...  \n",
       "1425  /vol/sci/bio/data/gil.greenbaum/amir.rubin/vcf...  \n",
       "1426  /vol/sci/bio/data/gil.greenbaum/amir.rubin/vcf...  \n",
       "1427  /vol/sci/bio/data/gil.greenbaum/amir.rubin/vcf...  \n",
       "1428  /vol/sci/bio/data/gil.greenbaum/amir.rubin/vcf...  \n",
       "1429  /vol/sci/bio/data/gil.greenbaum/amir.rubin/vcf...  \n",
       "\n",
       "[1430 rows x 17 columns]"
      ]
     },
     "execution_count": 4,
     "metadata": {},
     "output_type": "execute_result"
    }
   ],
   "source": [
    "df = pd.read_csv(r\"C:\\Data\\HUJI\\hgdp\\hgdp_stats\\split_vcf_output_stats.csv\")\n",
    "df"
   ]
  },
  {
   "cell_type": "code",
   "execution_count": 5,
   "metadata": {
    "ExecuteTime": {
     "end_time": "2021-01-20T07:46:00.788279Z",
     "start_time": "2021-01-20T07:46:00.772339Z"
    }
   },
   "outputs": [],
   "source": [
    "num_ind = 929\n",
    "min_mac = 2\n",
    "max_mac = 18\n",
    "min_maf = 1\n",
    "max_maf = 49\n",
    "min_chr = 1\n",
    "max_chr = 22"
   ]
  },
  {
   "cell_type": "code",
   "execution_count": 33,
   "metadata": {
    "ExecuteTime": {
     "end_time": "2021-01-20T07:59:10.467541Z",
     "start_time": "2021-01-20T07:59:09.452551Z"
    }
   },
   "outputs": [
    {
     "name": "stdout",
     "output_type": "stream",
     "text": [
      "missing chr1, maf 49\n",
      "missing chr2, maf 49\n",
      "missing chr3, maf 49\n",
      "missing chr4, maf 49\n",
      "missing chr5, maf 49\n",
      "missing chr6, maf 49\n",
      "missing chr7, maf 49\n",
      "missing chr8, maf 49\n",
      "missing chr9, maf 49\n",
      "missing chr10, maf 49\n",
      "missing chr11, maf 49\n",
      "missing chr12, maf 49\n",
      "missing chr13, maf 49\n",
      "missing chr14, maf 49\n",
      "missing chr15, maf 49\n",
      "missing chr16, maf 49\n",
      "missing chr17, maf 49\n",
      "missing chr18, maf 49\n",
      "missing chr19, maf 49\n",
      "missing chr20, maf 49\n",
      "missing chr21, maf 49\n",
      "missing chr22, maf 49\n"
     ]
    }
   ],
   "source": [
    "# first validate all data is here\n",
    "for chr_i in range(min_chr, max_chr+1):\n",
    "    for mac in range(min_mac, max_mac+1):\n",
    "        if len(df[(df['chr_name_name'] == f'chr{chr_i}') & (df['mac'] == f'{mac}')])!=1:\n",
    "            print(f'missing chr{chr_i}, mac {mac}')\n",
    "    for maf in range(min_maf, max_maf+1):\n",
    "        if len(df[(df['chr_name_name'] == f'chr{chr_i}') & (df['maf'] == f'{maf*1.0/100}')])!=1:\n",
    "            print(f'missing chr{chr_i}, maf {maf}')\n",
    "    "
   ]
  },
  {
   "cell_type": "code",
   "execution_count": 30,
   "metadata": {
    "ExecuteTime": {
     "end_time": "2021-01-20T07:58:53.094126Z",
     "start_time": "2021-01-20T07:58:53.077094Z"
    }
   },
   "outputs": [
    {
     "name": "stdout",
     "output_type": "stream",
     "text": [
      "passed\n",
      "passed\n",
      "passed\n",
      "passed\n"
     ]
    }
   ],
   "source": [
    "# next validate all have the correct num_ind\n",
    "for c  in ['num_of_indv_after_filter','indv_num_of_lines','012_num_of_lines','num_of_possible_indv']:\n",
    "    if len(df[df[c]!=num_ind])!=0:\n",
    "        print(f'wrong number of ind for column {c}')\n",
    "        print(df[df[c]!=num_ind][['chr_name_name',c]])\n",
    "    else:\n",
    "        print('passed')"
   ]
  },
  {
   "cell_type": "code",
   "execution_count": 31,
   "metadata": {
    "ExecuteTime": {
     "end_time": "2021-01-20T07:58:55.590902Z",
     "start_time": "2021-01-20T07:58:55.578907Z"
    }
   },
   "outputs": [
    {
     "name": "stdout",
     "output_type": "stream",
     "text": [
      "passed\n"
     ]
    }
   ],
   "source": [
    "# next validate same num_of_possible_sites per chr\n",
    "grouped = df.groupby('chr_name_name')['num_of_possible_sites'].agg('nunique').reset_index()\n",
    "if len(grouped[grouped['num_of_possible_sites']!=1])>0:\n",
    "    print(f'a chr with different number of num_of_possible_sites is found')\n",
    "    print(grouped[grouped['num_of_possible_sites']!=1])\n",
    "else:\n",
    "    print('passed')"
   ]
  },
  {
   "cell_type": "code",
   "execution_count": 38,
   "metadata": {
    "ExecuteTime": {
     "end_time": "2021-01-20T08:03:16.044306Z",
     "start_time": "2021-01-20T08:03:16.026469Z"
    }
   },
   "outputs": [
    {
     "name": "stdout",
     "output_type": "stream",
     "text": [
      "passed\n"
     ]
    }
   ],
   "source": [
    "# validate the number of sites after filtring is indeed the number of sites in the 012 file\n",
    "df['validate012sites'] = (df['num_of_sites_after_filter'] == df['pos_num_of_lines']) & \\\n",
    "                         (df['num_of_sites_after_filter'] == df['012_min_num_of_sites']) & \\\n",
    "                         (df['num_of_sites_after_filter'] == df['012_max_num_of_sites'])\n",
    "if len(df[~df['validate012sites']])>0:\n",
    "    print(f'number of sites after filtring doesnt match 012 file')\n",
    "    print(df[~df['validate012sites']])\n",
    "else:\n",
    "    print('passed')"
   ]
  }
 ],
 "metadata": {
  "kernelspec": {
   "display_name": "Python 3",
   "language": "python",
   "name": "python3"
  },
  "language_info": {
   "codemirror_mode": {
    "name": "ipython",
    "version": 3
   },
   "file_extension": ".py",
   "mimetype": "text/x-python",
   "name": "python",
   "nbconvert_exporter": "python",
   "pygments_lexer": "ipython3",
   "version": "3.7.4"
  },
  "toc": {
   "base_numbering": 1,
   "nav_menu": {},
   "number_sections": true,
   "sideBar": true,
   "skip_h1_title": true,
   "title_cell": "Table of Contents",
   "title_sidebar": "Contents",
   "toc_cell": true,
   "toc_position": {},
   "toc_section_display": true,
   "toc_window_display": false
  },
  "varInspector": {
   "cols": {
    "lenName": 16,
    "lenType": 16,
    "lenVar": 40
   },
   "kernels_config": {
    "python": {
     "delete_cmd_postfix": "",
     "delete_cmd_prefix": "del ",
     "library": "var_list.py",
     "varRefreshCmd": "print(var_dic_list())"
    },
    "r": {
     "delete_cmd_postfix": ") ",
     "delete_cmd_prefix": "rm(",
     "library": "var_list.r",
     "varRefreshCmd": "cat(var_dic_list()) "
    }
   },
   "types_to_exclude": [
    "module",
    "function",
    "builtin_function_or_method",
    "instance",
    "_Feature"
   ],
   "window_display": true
  }
 },
 "nbformat": 4,
 "nbformat_minor": 4
}

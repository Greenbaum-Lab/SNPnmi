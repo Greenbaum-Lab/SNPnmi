{
 "cells": [
  {
   "cell_type": "markdown",
   "metadata": {
    "toc": true
   },
   "source": [
    "<h1>Table of Contents<span class=\"tocSkip\"></span></h1>\n",
    "<div class=\"toc\"><ul class=\"toc-item\"></ul></div>"
   ]
  },
  {
   "cell_type": "code",
   "execution_count": 7,
   "metadata": {
    "ExecuteTime": {
     "end_time": "2021-03-03T12:05:05.976980Z",
     "start_time": "2021-03-03T12:05:05.919390Z"
    }
   },
   "outputs": [
    {
     "name": "stdout",
     "output_type": "stream",
     "text": [
      "mac -1\n",
      "maf 0.49\n",
      "C:/Data/HUJI/vcf/hgdp/classes/chr{chr_id}/maf_0.49.012\n",
      "C:/Data/HUJI/vcf/hgdp/classes/windows/indexes/windows_indexes_for_class_0.49.json\n",
      "C:/Data/HUJI/vcf/hgdp/classes/windows/maf_0.49/count_dist_window_{window_id}_transposed.tsv.gz\n",
      "988\n",
      "22\n",
      "1614773105.9690177 Start process chr 1\n"
     ]
    },
    {
     "ename": "NameError",
     "evalue": "name 'random_split_class_from_chr_to_windows' is not defined",
     "output_type": "error",
     "traceback": [
      "\u001b[1;31m---------------------------------------------------------------------------\u001b[0m",
      "\u001b[1;31mNameError\u001b[0m                                 Traceback (most recent call last)",
      "\u001b[1;32m<ipython-input-7-8c00f24a16a5>\u001b[0m in \u001b[0;36m<module>\u001b[1;34m\u001b[0m\n\u001b[0;32m     56\u001b[0m     \u001b[0mprint\u001b[0m\u001b[1;33m(\u001b[0m\u001b[1;34mf'{s} Start process chr {chr_id}'\u001b[0m\u001b[1;33m)\u001b[0m\u001b[1;33m\u001b[0m\u001b[1;33m\u001b[0m\u001b[0m\n\u001b[0;32m     57\u001b[0m     \u001b[0mchr_class_file\u001b[0m \u001b[1;33m=\u001b[0m \u001b[0minput_per_chr_template\u001b[0m\u001b[1;33m.\u001b[0m\u001b[0mformat\u001b[0m\u001b[1;33m(\u001b[0m\u001b[0mchr_id\u001b[0m\u001b[1;33m=\u001b[0m\u001b[0mchr_id\u001b[0m\u001b[1;33m)\u001b[0m\u001b[1;33m\u001b[0m\u001b[1;33m\u001b[0m\u001b[0m\n\u001b[1;32m---> 58\u001b[1;33m     \u001b[0mrandom_split_class_from_chr_to_windows\u001b[0m\u001b[1;33m(\u001b[0m\u001b[0mchr_class_file\u001b[0m\u001b[1;33m,\u001b[0m \u001b[0mnumber_of_windows\u001b[0m\u001b[1;33m,\u001b[0m \u001b[0mwindows_indexes_file\u001b[0m\u001b[1;33m,\u001b[0m \u001b[0mwindows_transposed_template\u001b[0m\u001b[1;33m)\u001b[0m\u001b[1;33m\u001b[0m\u001b[1;33m\u001b[0m\u001b[0m\n\u001b[0m\u001b[0;32m     59\u001b[0m \u001b[1;33m\u001b[0m\u001b[0m\n\u001b[0;32m     60\u001b[0m \u001b[1;33m\u001b[0m\u001b[0m\n",
      "\u001b[1;31mNameError\u001b[0m: name 'random_split_class_from_chr_to_windows' is not defined"
     ]
    }
   ],
   "source": [
    "import sys\n",
    "import time\n",
    "import os\n",
    "import json \n",
    "import pandas as pd\n",
    "import random\n",
    "\n",
    "from os.path import dirname, abspath\n",
    "root_path = 'C:\\Repos\\HUJI\\snpnmi'\n",
    "sys.path.append(root_path)\n",
    "\n",
    "from utils.common import normalize_distances, get_number_of_windows_by_class, build_empty_upper_left_matrix, write_upper_left_matrix_to_file, str2bool, get_paths_helper\n",
    "from utils.config import get_num_chrs, get_num_individuals\n",
    "\n",
    "random.seed(a='42', version=2)\n",
    "\n",
    "# params\n",
    "mac=-1\n",
    "maf=0.49\n",
    "\n",
    "\n",
    "print('mac',mac)\n",
    "print('maf',maf)\n",
    "mac_maf = 'maf'\n",
    "class_name = '0.49'\n",
    "#  we dont want to use the same seed here, as we will have the same values for all clasees\n",
    "paths_helper = get_paths_helper()\n",
    "\n",
    "# inputs are /vol/sci/bio/data/gil.greenbaum/amir.rubin/vcf/hgdp/classes/chr21/mac_2.012\n",
    "input_per_chr_template = paths_helper.classes_folder + 'chr{chr_id}/' + f'{mac_maf}_{class_name}.012'\n",
    "\n",
    "# outputs are \n",
    "# indexes: /vol/sci/bio/data/gil.greenbaum/amir.rubin/vcf/hgdp/classes/windows/indexes/windows_indexes_for_class_2.json\n",
    "windows_indexes_file = paths_helper.windows_indexes_template.format(class_name=class_name)\n",
    "\n",
    "# transposed windows: \n",
    "# /vol/sci/bio/data/gil.greenbaum/amir.rubin/vcf/hgdp/classes/windows/mac_2/count_dist_window_0_transposed.tsv.gz\n",
    "windows_transposed_template = paths_helper.windows_folder + f'{mac_maf}_{class_name}/count_dist_window_' + '{window_id}_transposed.tsv.gz'\n",
    "\n",
    "print(input_per_chr_template)\n",
    "print(windows_indexes_file)\n",
    "print(windows_transposed_template)\n",
    "\n",
    "# make sure output folders exists\n",
    "os.makedirs(paths_helper.windows_indexes_folder, exist_ok=True)\n",
    "os.makedirs('/'.join(windows_transposed_template.split('/')[:-1]), exist_ok=True)\n",
    "number_of_windows = get_number_of_windows_by_class()[str(class_name)]\n",
    "print(number_of_windows)\n",
    "\n",
    "num_chrs = get_num_chrs()\n",
    "print(num_chrs)\n",
    "\n",
    "# go over chrs\n",
    "for chr_id in range(1,num_chrs+1):\n",
    "    s = time.time()\n",
    "    print(f'{s} Start process chr {chr_id}')\n",
    "    chr_class_file = input_per_chr_template.format(chr_id=chr_id)\n",
    "    random_split_class_from_chr_to_windows(chr_class_file, number_of_windows, windows_indexes_file, windows_transposed_template)\n",
    "\n",
    "\n",
    "print(f'{(time.time()-s)/60} minutes total run time')"
   ]
  },
  {
   "cell_type": "code",
   "execution_count": 8,
   "metadata": {
    "ExecuteTime": {
     "end_time": "2021-03-03T12:05:39.711495Z",
     "start_time": "2021-03-03T12:05:39.702504Z"
    }
   },
   "outputs": [],
   "source": [
    "def append_to_dic(dic, key, value):\n",
    "    if not key in dic.keys():\n",
    "        dic[key] = []\n",
    "    dic[key].append(value)"
   ]
  },
  {
   "cell_type": "code",
   "execution_count": 16,
   "metadata": {
    "ExecuteTime": {
     "end_time": "2021-03-03T12:07:11.535606Z",
     "start_time": "2021-03-03T12:07:11.527629Z"
    }
   },
   "outputs": [],
   "source": [
    "def validate_windows_indexes(windows_indexes, chr_id, expected_num_indexes, expected_num_windows):\n",
    "    all_indexes = []\n",
    "    for k in windows_indexes.keys():\n",
    "        for c_i in windows_indexes[k]:\n",
    "            c,i = c_i.split(';',2)\n",
    "            assert c==str(chr_id)\n",
    "            ii = int(i)\n",
    "            assert not ii in all_indexes\n",
    "            all_indexes.append(ii)\n",
    "    assert len(all_indexes) == expected_num_indexes\n",
    "    assert len(windows_indexes.keys()) == expected_num_windows    "
   ]
  },
  {
   "cell_type": "code",
   "execution_count": 19,
   "metadata": {
    "ExecuteTime": {
     "end_time": "2021-03-03T12:07:35.670369Z",
     "start_time": "2021-03-03T12:07:26.803462Z"
    }
   },
   "outputs": [
    {
     "name": "stdout",
     "output_type": "stream",
     "text": [
      "Will have 4, each of max size 2000\n",
      "Process [1, 2000) in batch 1/4\n",
      "Done 500/1999 sites in batch 1/4\n",
      "Done 1000/1999 sites in batch 1/4\n",
      "Done 1500/1999 sites in batch 1/4\n",
      "Process [2000, 4000) in batch 2/4\n",
      "Done 500/2000 sites in batch 2/4\n",
      "Done 1000/2000 sites in batch 2/4\n",
      "Done 1500/2000 sites in batch 2/4\n",
      "Done 2000/2000 sites in batch 2/4\n",
      "Process [4000, 6000) in batch 3/4\n",
      "Done 500/2000 sites in batch 3/4\n",
      "Done 1000/2000 sites in batch 3/4\n",
      "Done 1500/2000 sites in batch 3/4\n",
      "Done 2000/2000 sites in batch 3/4\n",
      "Process [6000, 7392) in batch 4/4\n",
      "Done 500/1392 sites in batch 4/4\n",
      "Done 1000/1392 sites in batch 4/4\n"
     ]
    }
   ],
   "source": [
    "window_index_2_site_index = dict()\n",
    "with open(chr_class_file,'r') as f:\n",
    "    # the first column is the index!\n",
    "    num_columns = len(f.readline().split('\\t'))\n",
    "# the first column is the index!\n",
    "min_col_index_in_batch = 1\n",
    "max_col_index_in_batch = min(num_columns, batch_size)\n",
    "batch_index = 1\n",
    "num_batches = int(num_columns/batch_size) + 1\n",
    "print(f'Will have {num_batches}, each of max size {batch_size}')\n",
    "while min_col_index_in_batch < max_col_index_in_batch:\n",
    "    print(f'Process [{min_col_index_in_batch}, {max_col_index_in_batch}) in batch {batch_index}/{num_batches}')\n",
    "    usecols = range(min_col_index_in_batch, max_col_index_in_batch)\n",
    "    names = [str(i) for i in range(min_col_index_in_batch, max_col_index_in_batch)]\n",
    "    batch_df = pd.read_csv(chr_class_file, sep='\\t', usecols=usecols, index_col=False, names=names)\n",
    "    assert batch_df.iloc[:,0].max() <= 2\n",
    "    i = 0\n",
    "    #process_batch_df(batch_df, batch_index, num_batches, number_of_windows, window_index_2_site_index, chr_id, windows_transposed_template)\n",
    "    for (columnName, columnData) in batch_df.iteritems():\n",
    "        i += 1\n",
    "        if i%500 == 0:\n",
    "            print(f'Done {i}/{len(batch_df.columns)} sites in batch {batch_index}/{num_batches}' )\n",
    "        window_index = random.randint(0, number_of_windows-1)\n",
    "        # store the index in the file mapping windows to indexes used\n",
    "        append_to_dic(window_index_2_site_index, window_index, f'{chr_id};{columnName}')\n",
    "        #print(f'write {columnName} to {window_index}')    \n",
    "        # append the column as a row to the right window file\n",
    "        window_transposed_file = windows_transposed_template.format(window_id=window_index)\n",
    "        #with gzip.open(window_transposed_file,'ab') as f:\n",
    "        #    s = '\\t'.join([str(i) for i in columnData.values]) + '\\n'\n",
    "        #    f.write(s.encode()) \n",
    "        with open(window_transposed_file,'a') as f:\n",
    "                s = '\\t'.join([str(i) for i in columnData.values]) + '\\n'\n",
    "                f.write(s) \n",
    "    \n",
    "    min_col_index_in_batch = min(num_columns, max_col_index_in_batch)\n",
    "    max_col_index_in_batch = min(num_columns, max_col_index_in_batch + batch_size)\n",
    "    batch_index += 1\n",
    "\n",
    "validate_windows_indexes(window_index_2_site_index, chr_id, num_columns-1, number_of_windows)\n",
    "\n",
    "with open(windows_indexes_file, \"w\" ) as f: \n",
    "        json.dump(window_index_2_site_index, f )  "
   ]
  },
  {
   "cell_type": "code",
   "execution_count": 39,
   "metadata": {
    "ExecuteTime": {
     "end_time": "2021-03-03T09:11:10.204312Z",
     "start_time": "2021-03-03T09:11:09.334777Z"
    }
   },
   "outputs": [],
   "source": [
    "import gzip\n",
    "#def random_split_class_from_chr_to_windows(chr_id, chr_class_file, number_of_windows, windows_indexes_file, windows_transposed_template):\n",
    "# load file to memory\n",
    "with open(chr_class_file,'r') as f:\n",
    "        num_columns = len(f.readline().split('\\t'))\n",
    "names = [f'idx{i}' for i in range(num_columns)]\n",
    "df_012 = pd.read_csv(chr_class_file, sep='\\t', names= names)\n",
    "print(f'Number of sites: {len(df_012.columns)}')\n",
    "num_ind = len(df_012)\n",
    "assert num_ind == get_num_individuals()\n",
    "\n",
    "window_index_2_site_index = dict()\n",
    "i = 0\n",
    "for (columnName, columnData) in df_012.iteritems():\n",
    "    i += 1\n",
    "    if i%1000 == 0:\n",
    "        print(f'Done {i}/{len(df_012.columns)} sites' )\n",
    "    window_index = random.randint(1, number_of_windows)\n",
    "    # store the index in the file mapping windows to indexes used\n",
    "    append_to_dic(window_index_2_site_index, window_index, f'{chr_id};{columnName[3:]}')\n",
    "    #print(f'write {columnName} to {window_index}')    \n",
    "    # append the column as a row to the right window file\n",
    "    window_transposed_file = windows_transposed_template.format(window_id=window_index)\n",
    "    with gzip.open(window_transposed_file,'ab') as f:\n",
    "        s = '\\t'.join([str(i) for i in columnData.values]) + '\\n'\n",
    "        f.write(s.encode()) \n",
    "\n",
    "with open(windows_indexes_file, \"w\" ) as f: \n",
    "        json.dump(window_index_2_site_index, f )\n",
    "        \n",
    "        # will take 3.5 minutes to process each window of 100 slices."
   ]
  },
  {
   "cell_type": "code",
   "execution_count": 1,
   "metadata": {
    "ExecuteTime": {
     "end_time": "2021-03-03T11:45:43.315239Z",
     "start_time": "2021-03-03T11:45:43.299299Z"
    }
   },
   "outputs": [],
   "source": [
    "test_window_transposed_file = 'C:/Data/HUJI/vcf/hgdp/classes/windows/maf_0.49/count_dist_window_0_transposed.tsv'\n",
    "test_window_not_transposed_file = 'C:/Data/HUJI/vcf/hgdp/classes/windows/maf_0.49/count_dist_window_0.tsv'"
   ]
  },
  {
   "cell_type": "code",
   "execution_count": 4,
   "metadata": {
    "ExecuteTime": {
     "end_time": "2021-03-03T11:46:53.871893Z",
     "start_time": "2021-03-03T11:46:53.731940Z"
    }
   },
   "outputs": [],
   "source": [
    "import pandas as pd\n",
    "import gzip\n",
    "# transpose and output to file\n",
    "with open(test_window_transposed_file,'r') as f:\n",
    "        num_columns = len(f.readline().split('\\t'))\n",
    "names = [f'{i+1}' for i in range(num_columns)]\n",
    "df1 = pd.read_csv(test_window_transposed_file, sep='\\t', names=names) \n",
    "df1.transpose()\n",
    "#TODO window_not_transposed_file\n",
    "df1.transpose().to_csv(test_window_not_transposed_file+'.gz', sep='\\t', index=True,header=False, compression='gzip')\n",
    "df1.transpose().to_csv(test_window_not_transposed_file,index=True, sep='\\t', header=False)\n"
   ]
  },
  {
   "cell_type": "code",
   "execution_count": 124,
   "metadata": {
    "ExecuteTime": {
     "end_time": "2021-03-03T11:34:32.559441Z",
     "start_time": "2021-03-03T11:34:32.231028Z"
    }
   },
   "outputs": [],
   "source": [
    "# TODO add assertion for windows_indexes\n",
    "d = json.load(open(windows_indexes_file,'r'))\n",
    "allis = []\n",
    "for k in d.keys():\n",
    "    for ci in d[k]:\n",
    "        c,i = ci.split(';',2)\n",
    "        assert c=='5'\n",
    "        ii = int(i)\n",
    "        assert not ii in allis\n",
    "        allis.append(ii)"
   ]
  },
  {
   "cell_type": "code",
   "execution_count": null,
   "metadata": {},
   "outputs": [],
   "source": []
  }
 ],
 "metadata": {
  "kernelspec": {
   "display_name": "Python 3",
   "language": "python",
   "name": "python3"
  },
  "language_info": {
   "codemirror_mode": {
    "name": "ipython",
    "version": 3
   },
   "file_extension": ".py",
   "mimetype": "text/x-python",
   "name": "python",
   "nbconvert_exporter": "python",
   "pygments_lexer": "ipython3",
   "version": "3.7.4"
  },
  "toc": {
   "base_numbering": 1,
   "nav_menu": {},
   "number_sections": true,
   "sideBar": true,
   "skip_h1_title": true,
   "title_cell": "Table of Contents",
   "title_sidebar": "Contents",
   "toc_cell": true,
   "toc_position": {},
   "toc_section_display": true,
   "toc_window_display": false
  },
  "varInspector": {
   "cols": {
    "lenName": 16,
    "lenType": 16,
    "lenVar": 40
   },
   "kernels_config": {
    "python": {
     "delete_cmd_postfix": "",
     "delete_cmd_prefix": "del ",
     "library": "var_list.py",
     "varRefreshCmd": "print(var_dic_list())"
    },
    "r": {
     "delete_cmd_postfix": ") ",
     "delete_cmd_prefix": "rm(",
     "library": "var_list.r",
     "varRefreshCmd": "cat(var_dic_list()) "
    }
   },
   "types_to_exclude": [
    "module",
    "function",
    "builtin_function_or_method",
    "instance",
    "_Feature"
   ],
   "window_display": true
  }
 },
 "nbformat": 4,
 "nbformat_minor": 4
}

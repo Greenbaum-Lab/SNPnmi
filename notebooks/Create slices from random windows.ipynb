{
 "cells": [
  {
   "cell_type": "markdown",
   "metadata": {
    "toc": true
   },
   "source": [
    "<h1>Table of Contents<span class=\"tocSkip\"></span></h1>\n",
    "<div class=\"toc\"><ul class=\"toc-item\"></ul></div>"
   ]
  },
  {
   "cell_type": "code",
   "execution_count": 6,
   "metadata": {},
   "outputs": [
    {
     "output_type": "stream",
     "name": "stdout",
     "text": [
      "a_0.43 \n"
     ]
    }
   ],
   "source": [
    "a='a'\n",
    "class_name = '0.43'\n",
    "filen = f'{a}_{float(class_name):.2f} '\n",
    "print(filen)\n"
   ]
  },
  {
   "cell_type": "code",
   "execution_count": null,
   "metadata": {
    "ExecuteTime": {
     "end_time": "2021-02-10T11:41:45.233983Z",
     "start_time": "2021-02-10T11:41:45.216986Z"
    }
   },
   "outputs": [],
   "source": [
    "# params\n",
    "classes_folder_local = r\"C:\\Data\\HUJI\\hgdp\\classes/\"\n",
    "classes_folder = classes_folder_local\n",
    "mac_maf = 'maf'\n",
    "class_name = 0.49\n",
    "num_windows_per_slice = 2\n",
    "num_slices = 2"
   ]
  },
  {
   "cell_type": "code",
   "execution_count": null,
   "metadata": {
    "ExecuteTime": {
     "end_time": "2021-02-10T12:58:25.971438Z",
     "start_time": "2021-02-10T12:58:25.958424Z"
    }
   },
   "outputs": [],
   "source": [
    "import random\n",
    "import os\n",
    "import glob\n",
    "import gzip\n",
    "\n",
    "#  we dont want to use the same seed here, as we will have the same values for all clasees\n",
    "# random.seed(10)\n",
    "\n",
    "windows_folder = classes_folder + r'windows/'\n",
    "slices_folder = classes_folder + r'slices/'\n",
    "number_of_windows_per_class_path = classes_folder + 'number_of_windows_per_class.txt'\n",
    "windows_class_folder = f'{windows_folder}{mac_maf}_{class_name}/'\n",
    "slices_class_folder = f'{slices_folder}{mac_maf}_{class_name}/'\n",
    "\n",
    "window_file_regex = f'{windows_folder}{mac_maf}_{class_name}/' + 'count_dist_window_*.tsv.gz'\n",
    "window_file_template = f'{windows_folder}{mac_maf}_{class_name}/' + 'count_dist_window_{index}.tsv.gz'\n",
    "slice_distances_file_template = slices_class_folder + 'slice_{index}_dist.tsv.gz'\n",
    "slice_counts_file_template = slices_class_folder + 'slice_{index}_count.tsv.gz'\n",
    "slice_metadata_file_template = slices_class_folder + 'slice_{index}_metadata.txt'\n",
    "os.makedirs(slices_class_folder, exist_ok=True)\n"
   ]
  },
  {
   "cell_type": "code",
   "execution_count": null,
   "metadata": {
    "ExecuteTime": {
     "end_time": "2021-02-10T12:59:14.676578Z",
     "start_time": "2021-02-10T12:59:14.659539Z"
    }
   },
   "outputs": [],
   "source": [
    "def get_number_of_windows_by_class(number_of_windows_per_class_path):\n",
    "    class2num_windows = dict()\n",
    "    with open(number_of_windows_per_class_path) as f:\n",
    "        for l in f.readlines():\n",
    "            classname, num_windows = l.split(' ',1)\n",
    "            class2num_windows[classname] = int(num_windows)\n",
    "    return class2num_windows\n",
    "\n",
    "def write_metadata_to_file(windows_to_use,file):\n",
    "    with open(file,'w') as f:\n",
    "        windows_s = ','.join([str(i) for i in windows_to_use])\n",
    "        f.write(f'windows used:{windows_s}\\n')\n",
    "        \n",
    "def _build_pairwise_db(number, value):\n",
    "    return [[value]*(number-i) for i in range (1,number)]\n",
    "\n",
    "def calc_distances_based_on_files(files):\n",
    "    # use the first file to understand the number of individuals\n",
    "    with gzip.open(files[0], 'rb') as f:\n",
    "        num_ind = len(f.readline().split()) + 1\n",
    "    dists = _build_pairwise_db(num_ind, 0.0)\n",
    "    counts = _build_pairwise_db(num_ind, 0)\n",
    "\n",
    "    # sum it up!\n",
    "    for file in files:\n",
    "        with gzip.open(files[0], 'rb') as f:\n",
    "            line = f.readline().decode()\n",
    "            i = -1\n",
    "            while line:\n",
    "                i += 1\n",
    "                parts = line.replace('\\n','').split()\n",
    "                assert len(parts) == num_ind - 1 - i\n",
    "                for j, count_dist in enumerate(parts):\n",
    "                    count, dist = count_dist.split(';', 2)\n",
    "                    counts[i][j] += int(count)\n",
    "                    dists[i][j] += float(dist)\n",
    "                line = f.readline().decode()\n",
    "            # minus 1 as we only have i-j (wihtou i-i) minus another one as the count is zero based \n",
    "            assert i == num_ind - 1 - 1\n",
    "    # now return the true distance - that is, the sum of distances divided by sum of counts\n",
    "    for i in range(len(dists)):\n",
    "        for j in range(len(dists[i])):\n",
    "            dists[i][j] = dists[i][j] / counts[i][j]\n",
    "    return dists, counts\n",
    "\n",
    "def write_pairwise_values_to_file(output_file, pairwise_values):\n",
    "    with gzip.open(output_file,'wb') as f:\n",
    "        for v in pairwise_values:\n",
    "            s = ' '.join([str(i) for i in v]) + '\\n'\n",
    "            f.write(s.encode())\n"
   ]
  },
  {
   "cell_type": "code",
   "execution_count": null,
   "metadata": {
    "ExecuteTime": {
     "end_time": "2021-02-10T13:07:33.220707Z",
     "start_time": "2021-02-10T13:06:29.217356Z"
    }
   },
   "outputs": [],
   "source": [
    "\n",
    "# get the expected number of windows\n",
    "class2num_windows = get_number_of_windows_by_class(number_of_windows_per_class_path)\n",
    "expected_num_of_windows = class2num_windows[str(class_name)]\n",
    "\n",
    "# validate that all windows exist\n",
    "actual_windows = glob.glob(window_file_regex)\n",
    "assert len(actual_windows) == expected_num_of_windows\n",
    "max_index = len(actual_windows)\n",
    "# Proceessing 100 windows in a slice takes about 1 minute.\n",
    "# Output file is about 2MB.\n",
    "# we have about 70 classes. Assuming for each we create 100 slices, this will be ~14GB\n",
    "for slice_id in range(num_slices):\n",
    "    print(f'Prepare slice number {slice_id+1} out of {num_slices}')\n",
    "    windows_to_use = random.sample(range(max_index), num_windows_per_slice)\n",
    "    windows_to_use.sort()\n",
    "    print(windows_to_use)\n",
    "    slice_metadata_file = slice_metadata_file_template.format(index=slice_id)\n",
    "    write_metadata_to_file(windows_to_use, slice_metadata_file)\n",
    "    print(f'slice_metadata_file : {slice_metadata_file}')\n",
    "\n",
    "    distances, counts = calc_distances_based_on_files([window_file_template.format(index=i) for i in windows_to_use])\n",
    "    slice_distances_file = slice_distances_file_template.format(index=slice_id)\n",
    "    slice_counts_file = slice_counts_file_template.format(index=slice_id)\n",
    "    write_pairwise_values_to_file(slice_distances_file, distances)\n",
    "    print(f'slice_distances_file : {slice_distances_file}')\n",
    "    write_pairwise_values_to_file(slice_counts_file, counts)\n",
    "    print(f'slice_counts_file : {slice_counts_file}')\n"
   ]
  }
 ],
 "metadata": {
  "kernelspec": {
   "display_name": "Python 3",
   "language": "python",
   "name": "python3"
  },
  "language_info": {
   "codemirror_mode": {
    "name": "ipython",
    "version": 3
   },
   "file_extension": ".py",
   "mimetype": "text/x-python",
   "name": "python",
   "nbconvert_exporter": "python",
   "pygments_lexer": "ipython3",
   "version": "3.7.4-final"
  },
  "toc": {
   "base_numbering": 1,
   "nav_menu": {},
   "number_sections": true,
   "sideBar": true,
   "skip_h1_title": true,
   "title_cell": "Table of Contents",
   "title_sidebar": "Contents",
   "toc_cell": true,
   "toc_position": {},
   "toc_section_display": true,
   "toc_window_display": false
  },
  "varInspector": {
   "cols": {
    "lenName": 16,
    "lenType": 16,
    "lenVar": 40
   },
   "kernels_config": {
    "python": {
     "delete_cmd_postfix": "",
     "delete_cmd_prefix": "del ",
     "library": "var_list.py",
     "varRefreshCmd": "print(var_dic_list())"
    },
    "r": {
     "delete_cmd_postfix": ") ",
     "delete_cmd_prefix": "rm(",
     "library": "var_list.r",
     "varRefreshCmd": "cat(var_dic_list()) "
    }
   },
   "types_to_exclude": [
    "module",
    "function",
    "builtin_function_or_method",
    "instance",
    "_Feature"
   ],
   "window_display": true
  }
 },
 "nbformat": 4,
 "nbformat_minor": 4
}